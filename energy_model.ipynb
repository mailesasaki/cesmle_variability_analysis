{
 "cells": [
  {
   "cell_type": "code",
   "execution_count": 1,
   "id": "d32283d4",
   "metadata": {},
   "outputs": [],
   "source": [
    "import numpy as np\n",
    "import pandas as pd\n",
    "import matplotlib.pyplot as plt\n",
    "import xarray as xr"
   ]
  },
  {
   "cell_type": "markdown",
   "id": "0625e05f",
   "metadata": {},
   "source": [
    "## Numerical parameters"
   ]
  },
  {
   "cell_type": "code",
   "execution_count": 2,
   "id": "4eb05de8",
   "metadata": {},
   "outputs": [],
   "source": [
    "density = 1026 #Water density - kg/m3\n",
    "c_p = 3850 #Specific heat of salt water - J/kgC\n",
    "seconds = 30*24*60*60 #Time in a month - seconds"
   ]
  },
  {
   "cell_type": "code",
   "execution_count": null,
   "id": "c473aca4",
   "metadata": {},
   "outputs": [],
   "source": []
  }
 ],
 "metadata": {
  "kernelspec": {
   "display_name": "Python 3 (ipykernel)",
   "language": "python",
   "name": "python3"
  },
  "language_info": {
   "codemirror_mode": {
    "name": "ipython",
    "version": 3
   },
   "file_extension": ".py",
   "mimetype": "text/x-python",
   "name": "python",
   "nbconvert_exporter": "python",
   "pygments_lexer": "ipython3",
   "version": "3.10.4"
  }
 },
 "nbformat": 4,
 "nbformat_minor": 5
}
