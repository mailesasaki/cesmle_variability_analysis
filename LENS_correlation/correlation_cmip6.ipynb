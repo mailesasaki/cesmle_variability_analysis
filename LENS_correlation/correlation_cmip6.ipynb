{
 "cells": [
  {
   "cell_type": "markdown",
   "id": "abd3b398",
   "metadata": {},
   "source": [
    "# CMIP6"
   ]
  },
  {
   "cell_type": "markdown",
   "id": "21ed3bdb",
   "metadata": {},
   "source": [
    "## Compute ensemble means"
   ]
  },
  {
   "cell_type": "code",
   "execution_count": null,
   "id": "8bfc5bd3",
   "metadata": {},
   "outputs": [],
   "source": [
    "cmip6_ensmean = cmip6.mean(dim='version')\n",
    "cmip6_ensmean"
   ]
  },
  {
   "cell_type": "markdown",
   "id": "e8d80ca4",
   "metadata": {},
   "source": [
    "## Smooth to decadal time scales"
   ]
  },
  {
   "cell_type": "code",
   "execution_count": null,
   "id": "7fe68221",
   "metadata": {},
   "outputs": [],
   "source": [
    "cmip6_indiv_smoothed = cmip6.rolling(time=120, center=True).mean('time')\n",
    "cmip6_indiv_smoothed"
   ]
  },
  {
   "cell_type": "code",
   "execution_count": null,
   "id": "90222bd5",
   "metadata": {},
   "outputs": [],
   "source": [
    "cmip6_smoothed = cmip6_ensmean.rolling(time=120, center=True).mean('time')\n",
    "cmip6_smoothed"
   ]
  },
  {
   "cell_type": "markdown",
   "id": "43c4ae09",
   "metadata": {},
   "source": [
    "## Correlate local temperature"
   ]
  },
  {
   "cell_type": "code",
   "execution_count": null,
   "id": "2c05d2e8",
   "metadata": {},
   "outputs": [],
   "source": [
    "cmip6_local_corr = xr.corr(cmip6_indiv_smoothed, cmip6_smoothed, dim='time')"
   ]
  },
  {
   "cell_type": "code",
   "execution_count": null,
   "id": "c129c871",
   "metadata": {},
   "outputs": [],
   "source": [
    "cmip6_local_corr_mean = cmip6_local_corr.mean(dim='ensemble_mem')\n",
    "cmip6_local_corr_mean"
   ]
  },
  {
   "cell_type": "code",
   "execution_count": null,
   "id": "6e3d06a1",
   "metadata": {},
   "outputs": [],
   "source": [
    "plt.rcParams['figure.figsize'] = [12, 7]\n",
    "ax = plt.axes(projection=ccrs.PlateCarree(central_longitude=180))\n",
    "cesm_local_corr_mean.plot(ax=ax, transform=ccrs.PlateCarree(), vmin=0.2, vmax=1, cmap='jet')\n",
    "ax.coastlines(color='black', linewidth=1)\n",
    "vert_ds.plot.contour(ax=ax, transform=ccrs.PlateCarree(), colors='#808080', levels=[-0.005,0.005])\n",
    "plt.title('CESM1 TAS Correlation - Local temperature')"
   ]
  }
 ],
 "metadata": {
  "kernelspec": {
   "display_name": "Python 3 (ipykernel)",
   "language": "python",
   "name": "python3"
  },
  "language_info": {
   "codemirror_mode": {
    "name": "ipython",
    "version": 3
   },
   "file_extension": ".py",
   "mimetype": "text/x-python",
   "name": "python",
   "nbconvert_exporter": "python",
   "pygments_lexer": "ipython3",
   "version": "3.10.4"
  }
 },
 "nbformat": 4,
 "nbformat_minor": 5
}
