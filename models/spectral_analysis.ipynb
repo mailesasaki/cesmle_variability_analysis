{
 "cells": [
  {
   "cell_type": "code",
   "execution_count": 1,
   "id": "118a3eda",
   "metadata": {},
   "outputs": [],
   "source": [
    "# Importing packages\n",
    "import numpy as np\n",
    "import pandas as pd\n",
    "import matplotlib.pyplot as plt\n",
    "import xarray as xr\n",
    "import cartopy.crs as ccrs\n",
    "from matplotlib import gridspec\n",
    "import matplotlib\n",
    "from scipy.optimize import curve_fit"
   ]
  },
  {
   "cell_type": "code",
   "execution_count": 2,
   "id": "ef43f6b4",
   "metadata": {},
   "outputs": [],
   "source": [
    "density = 1026 #Water density - kg/m3\n",
    "c_p = 3850 #Specific heat of salt water - J/kgC\n",
    "seconds = 7*24*60*60 #Time in a week - seconds\n",
    "mlotst_equator = 21.95173968 # Mixed layer depth at equator - m"
   ]
  },
  {
   "cell_type": "code",
   "execution_count": 3,
   "id": "0c9fe7f6",
   "metadata": {},
   "outputs": [],
   "source": [
    "def white_noise(sigma):\n",
    "    \"\"\"\n",
    "    Define white noise using a normal distribution\n",
    "    \n",
    "    \"\"\"\n",
    "    mean = 0\n",
    "    std = sigma\n",
    "    \n",
    "    return np.random.normal(mean, std)"
   ]
  },
  {
   "cell_type": "code",
   "execution_count": 4,
   "id": "bd73b272",
   "metadata": {},
   "outputs": [],
   "source": [
    "def lag_regress(params, years, lagint):\n",
    "    lambda_a = params['lambda_a'] # Atmospheric feedback\n",
    "    lambda_o = params['lambda_o']\n",
    "    sigma_a = params['sigma_a']   # Variance of atmospheric forcing\n",
    "    sigma_o = params['sigma_o']   # Variance of oceanic forcing\n",
    "    \n",
    "    Nt = 52*years # Number of timesteps - weekly [weeks]\n",
    "    dt = 60*60*24*7 # Timestep - week [s]\n",
    "    \n",
    "    np.random.seed(4)\n",
    "    \n",
    "    T = np.zeros(Nt+1) # Temperature array over time [K]\n",
    "    \n",
    "    F_o = white_noise(sigma_o)\n",
    "    Q_toa = np.zeros(Nt)\n",
    "    Q_oce = np.zeros(Nt)\n",
    "    for t in range(1,Nt):\n",
    "        Q_oce[t] = -lambda_o*T[t] + white_noise(sigma_o) \n",
    "        Q_toa[t] = -lambda_a*T[t] + white_noise(sigma_a)\n",
    "        T[t+1] = T[t] + (dt/(c_p*density*mlotst_equator))*(Q_toa[t] + Q_oce[t])\n",
    "    \n",
    "    lag_series = np.arange(-lagint,lagint,1)\n",
    "    lagresponse_toa = np.zeros(len(lag_series))\n",
    "    lagresponse_oce = np.zeros(len(lag_series))\n",
    "    i = 0\n",
    "    for lag in lag_series:\n",
    "        if lag < 0:\n",
    "            laggedtoa = Q_toa[0:lag]\n",
    "            laggedoce = Q_oce[0:lag]\n",
    "            T_trunc = np.roll(T, lag)[0:lag-1]\n",
    "        elif lag == 0:\n",
    "            laggedtoa = Q_toa\n",
    "            laggedoce = Q_oce\n",
    "            T_trunc = T[:-1]\n",
    "        elif lag > 0:    \n",
    "            laggedoce = np.roll(Q_oce,-lag)[0:-lag]\n",
    "            laggedtoa = np.roll(Q_toa,-lag)[0:-lag]\n",
    "            T_trunc = T[0:-lag-1]\n",
    "        lagresponse_toa[i] = np.polyfit(T_trunc, laggedtoa, deg=1)[0]\n",
    "        lagresponse_oce[i] = np.polyfit(T_trunc, laggedoce, deg=1)[0]\n",
    "        i += 1\n",
    "        \n",
    "    return lagresponse_toa, lagresponse_oce, lag_series"
   ]
  },
  {
   "cell_type": "code",
   "execution_count": null,
   "id": "fd461363",
   "metadata": {},
   "outputs": [],
   "source": []
  }
 ],
 "metadata": {
  "kernelspec": {
   "display_name": "Python 3 (ipykernel)",
   "language": "python",
   "name": "python3"
  },
  "language_info": {
   "codemirror_mode": {
    "name": "ipython",
    "version": 3
   },
   "file_extension": ".py",
   "mimetype": "text/x-python",
   "name": "python",
   "nbconvert_exporter": "python",
   "pygments_lexer": "ipython3",
   "version": "3.10.4"
  }
 },
 "nbformat": 4,
 "nbformat_minor": 5
}
