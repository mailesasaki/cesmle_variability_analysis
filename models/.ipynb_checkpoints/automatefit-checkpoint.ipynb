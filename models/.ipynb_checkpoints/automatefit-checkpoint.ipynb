{
 "cells": [
  {
   "cell_type": "code",
   "execution_count": null,
   "id": "4b71ae09",
   "metadata": {},
   "outputs": [],
   "source": [
    "def automate_lag(Qs, Qo, SST, mlotst, lagint, lon, lat, params):\n",
    "    atm_list = []\n",
    "    oce_list = []\n",
    "\n",
    "    for model in dataarray_SST_cont['name']:\n",
    "        atm_list.append(lagregress(Qs.sel(lat=lat,method='nearest').sel(lon=lon,method='nearest').sel(name=model), \n",
    "                              SST.sel(lat=lat,method='nearest').sel(lon=lon,method='nearest').sel(name=model),\n",
    "                              lagint = lagint*12))\n",
    "        oce_list.append(lagregress(Qo.sel(lat=lat,method='nearest').sel(lon=lon,method='nearest').sel(name=model), \n",
    "                         SST.sel(lat=lat,method='nearest').sel(lon=lon,method='nearest').sel(name=model),\n",
    "                         lagint = lagint*12))\n",
    "\n",
    "    atmlist = []\n",
    "    for i in range(15):\n",
    "        atmlist.append(atm_list[i][0])\n",
    "    atm_lag = np.mean(atmlist, axis=0)\n",
    "    laglist = atm_lag[0][1]\n",
    "\n",
    "    ocelist = []\n",
    "    for i in range(15):\n",
    "        ocelist.append(oce_list[i][0])\n",
    "    oce_lag = np.mean(ocelist, axis=0)\n",
    "\n",
    "    density = 1026 #Water density - kg/m3\n",
    "    c_p = 3850 #Specific heat of salt water - J/kgC\n",
    "    seconds = 30*24*60*60 #Time in a month - seconds\n",
    "    # Mixed layer depth at equator - m\n",
    "    mlotst_equator = mlotst.sel(lat=lat,method='nearest').sel(lon=lon,method='nearest').mean('time').mean('name') \n",
    "\n",
    "    # Adjusting the parameters here???\n",
    "    \n",
    "    atmos_a, ocean_a = analytical(params, lagint*12)\n",
    "    \n",
    "    plot(atm_lag, oce_lag, atmos_a, ocean_a, laglist, lagint, params, Qo, Qs, lon, lat)"
   ]
  }
 ],
 "metadata": {
  "kernelspec": {
   "display_name": "Python 3 (ipykernel)",
   "language": "python",
   "name": "python3"
  },
  "language_info": {
   "codemirror_mode": {
    "name": "ipython",
    "version": 3
   },
   "file_extension": ".py",
   "mimetype": "text/x-python",
   "name": "python",
   "nbconvert_exporter": "python",
   "pygments_lexer": "ipython3",
   "version": "3.10.4"
  }
 },
 "nbformat": 4,
 "nbformat_minor": 5
}
