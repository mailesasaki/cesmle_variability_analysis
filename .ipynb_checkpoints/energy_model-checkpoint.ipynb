{
 "cells": [
  {
   "cell_type": "code",
   "execution_count": 1,
   "id": "d32283d4",
   "metadata": {},
   "outputs": [],
   "source": [
    "import numpy as np\n",
    "import pandas as pd\n",
    "import matplotlib.pyplot as plt\n",
    "import xarray as xr\n",
    "from sklearn.linear_model import LinearRegression"
   ]
  },
  {
   "cell_type": "markdown",
   "id": "0625e05f",
   "metadata": {},
   "source": [
    "## Numerical parameters"
   ]
  },
  {
   "cell_type": "code",
   "execution_count": 2,
   "id": "4eb05de8",
   "metadata": {},
   "outputs": [],
   "source": [
    "density = 1026 #Water density - kg/m3\n",
    "c_p = 3850 #Specific heat of salt water - J/kgC\n",
    "seconds = 30*24*60*60 #Time in a month - seconds"
   ]
  },
  {
   "cell_type": "markdown",
   "id": "936774c5",
   "metadata": {},
   "source": [
    "# Auto Regression Model"
   ]
  },
  {
   "cell_type": "code",
   "execution_count": 3,
   "id": "9f55bdc9",
   "metadata": {},
   "outputs": [],
   "source": [
    "class AutoRegression:\n",
    "    \"\"\"\n",
    "    Class for auto-regression models!\n",
    "     \n",
    "    Built with help from https://medium.com/@karen.mossoyan/building-an-autoregression-model-for-time-series-analysis-in-python-49402bdd6d08\n",
    "    \"\"\"\n",
    "    def __init__(self):\n",
    "        self.order = 1 # Order of model\n",
    "        self.model = LinearRegression() # Type of model\n",
    "        self.sigma = None # Generate noise\n",
    "        \n",
    "    def generate_train_x(self, X):\n",
    "        \"\"\"\n",
    "        Data to be trained on\n",
    "        \n",
    "        \"\"\"\n",
    "        n = len(X) \n",
    "        \n",
    "        # Storing values X_1 through X_(n-p) in a column\n",
    "        ans = X[:n-self.order]\n",
    "        ans = np.reshape(ans, (-1,1))\n",
    "        \n",
    "        return ans\n",
    "    \n",
    "    def generate_train_y(self, X):\n",
    "        \"\"\"\n",
    "        The target variable\n",
    "        \n",
    "        \"\"\"\n",
    "        return X[self.order:]\n",
    "    \n",
    "    def fit(self, X):\n",
    "        \"\"\"\n",
    "        Assembly\n",
    "        \n",
    "        \"\"\"\n",
    "        self.sigma = np.std(X)\n",
    "        train_x = self.generate_train_x(X)\n",
    "        train_y = self.generate_train_y(X)\n",
    "        self.model.fit(train_x, train_y)\n",
    "        \n",
    "    def predict(self, X, num_predictions, mc_depth):\n",
    "        \"\"\"\n",
    "        Predicts an arbitrary amount of steps into the future and performs a Monte Carlo Simulation.\n",
    "        \n",
    "        Variables:\n",
    "            num_predictions - amount of steps we'll be predicting\n",
    "            mc_depth - amount of MC simulations of the model we'll be averaging\n",
    "        \"\"\"\n",
    "        X = np.array(X)\n",
    "        ans = np.array([])\n",
    "        \n",
    "        for j in range(mc_depth): \n",
    "            ans_temp = []\n",
    "            a = X[-self.order:] # The last value of the given signal\n",
    "            \n",
    "        # Predicting using a, the trained model, and noise\n",
    "        for i in range(num_predictions):\n",
    "            new = self.model.predict(np.reshape(a, (1,-1)) + np.random.normal(loc=0, scale=self.sigma)) \n",
    "            ans_temp.append(new)\n",
    "            # Dropping the oldest value...\n",
    "            a = np.roll(a, -1)\n",
    "            # ...and putting the newest one in the front\n",
    "            a[-1] = new\n",
    "            \n",
    "        if j==0:\n",
    "            ans = np.array(ans_temp)\n",
    "        else:\n",
    "            ans += np.array(ans_temp)\n",
    "            \n",
    "        # Divide by the amount of MC Simulations we're running!    \n",
    "        ans /= mc_depth\n",
    "        \n",
    "        return ans"
   ]
  },
  {
   "cell_type": "markdown",
   "id": "5725d9fa",
   "metadata": {},
   "source": [
    "# Integration"
   ]
  },
  {
   "cell_type": "code",
   "execution_count": 3,
   "id": "20600ec6",
   "metadata": {},
   "outputs": [],
   "source": []
  },
  {
   "cell_type": "code",
   "execution_count": null,
   "id": "e31c6bd9",
   "metadata": {},
   "outputs": [],
   "source": []
  }
 ],
 "metadata": {
  "kernelspec": {
   "display_name": "Python 3 (ipykernel)",
   "language": "python",
   "name": "python3"
  },
  "language_info": {
   "codemirror_mode": {
    "name": "ipython",
    "version": 3
   },
   "file_extension": ".py",
   "mimetype": "text/x-python",
   "name": "python",
   "nbconvert_exporter": "python",
   "pygments_lexer": "ipython3",
   "version": "3.10.4"
  }
 },
 "nbformat": 4,
 "nbformat_minor": 5
}
