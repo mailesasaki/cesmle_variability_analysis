{
 "cells": [
  {
   "cell_type": "code",
   "execution_count": 1,
   "id": "6846d427",
   "metadata": {},
   "outputs": [],
   "source": [
    "import scipy.io\n",
    "import numpy as np\n",
    "import matplotlib.pyplot as plt\n",
    "import xarray as xr\n",
    "import cartopy.crs as ccrs"
   ]
  },
  {
   "cell_type": "markdown",
   "id": "1f426345",
   "metadata": {},
   "source": [
    "# Load 1a_ld_N"
   ]
  },
  {
   "cell_type": "code",
   "execution_count": 2,
   "id": "b2a1b81f",
   "metadata": {},
   "outputs": [
    {
     "data": {
      "text/plain": [
       "['             NaN             NaN             NaN             NaN             NaN             NaN             NaN             NaN             NaN             NaN             NaN             NaN             NaN             NaN             NaN             NaN             NaN             NaN             NaN             NaN             NaN             NaN             NaN             NaN             NaN             NaN             NaN             NaN             NaN             NaN             NaN             NaN             NaN             NaN             NaN             NaN  -2.5535370e+00  -2.5535370e+00  -2.5535370e+00  -2.5535370e+00  -2.5535370e+00  -2.5535370e+00  -2.5535370e+00  -2.5535370e+00  -6.9731523e+00  -6.9731523e+00  -6.9731523e+00  -6.9731523e+00  -7.3096175e+00  -8.3517784e+00  -1.0391940e+01  -1.2632927e+01  -1.3127523e+01  -1.1735126e+01  -1.0466857e+01  -9.8235716e+00  -9.5888595e+00  -9.4744266e+00  -9.2568869e+00  -9.0150661e+00  -8.8585447e+00  -8.8585447e+00  -8.8585447e+00             NaN             NaN             NaN             NaN             NaN             NaN             NaN             NaN             NaN\\n',\n",
       " '             NaN             NaN             NaN             NaN             NaN             NaN             NaN             NaN             NaN             NaN             NaN             NaN             NaN             NaN             NaN             NaN             NaN             NaN             NaN  -2.1991431e+01             NaN             NaN             NaN             NaN             NaN             NaN             NaN             NaN             NaN             NaN             NaN             NaN             NaN             NaN             NaN             NaN  -2.5535370e+00  -2.5535370e+00  -2.5535370e+00  -2.5535370e+00  -2.5535370e+00  -2.5535370e+00  -2.5535370e+00  -2.5535370e+00  -6.9731523e+00  -6.9731523e+00  -6.9731523e+00  -6.9731523e+00  -7.4463831e+00  -8.7933598e+00  -1.1003841e+01  -1.2943939e+01  -1.3308572e+01  -1.2108837e+01  -1.0764562e+01  -9.9701982e+00  -9.6521650e+00  -9.4912896e+00  -9.1919158e+00  -8.9795317e+00  -8.8585447e+00  -8.8585447e+00  -8.8585447e+00             NaN             NaN             NaN             NaN             NaN             NaN             NaN             NaN             NaN\\n',\n",
       " '             NaN             NaN             NaN             NaN             NaN             NaN             NaN             NaN             NaN             NaN             NaN             NaN             NaN             NaN             NaN             NaN             NaN             NaN             NaN             NaN             NaN             NaN             NaN             NaN             NaN             NaN             NaN             NaN             NaN             NaN             NaN             NaN             NaN             NaN             NaN             NaN             NaN             NaN  -2.5535370e+00  -2.5535370e+00  -2.5535370e+00  -2.5535370e+00  -2.5535370e+00  -2.5535370e+00  -6.9731523e+00  -6.9731523e+00  -6.9731523e+00  -6.9731523e+00  -7.6141916e+00  -9.2665215e+00  -1.1529081e+01  -1.3162992e+01  -1.3435542e+01  -1.2389107e+01  -1.1095255e+01  -1.0234667e+01  -9.8491427e+00  -9.6162040e+00  -9.2665629e+00  -8.9511299e+00  -8.8585447e+00  -8.8585447e+00  -8.8585447e+00             NaN             NaN             NaN             NaN             NaN             NaN             NaN             NaN             NaN\\n',\n",
       " '             NaN             NaN             NaN             NaN             NaN             NaN             NaN             NaN             NaN             NaN             NaN             NaN             NaN             NaN             NaN             NaN             NaN             NaN             NaN             NaN             NaN             NaN             NaN             NaN             NaN             NaN             NaN             NaN             NaN             NaN             NaN             NaN             NaN             NaN             NaN             NaN             NaN             NaN             NaN             NaN             NaN             NaN             NaN             NaN             NaN             NaN             NaN             NaN  -7.8306972e+00  -9.7873029e+00  -1.1994949e+01  -1.3329027e+01  -1.3479667e+01  -1.2605743e+01  -1.1416979e+01  -1.0571349e+01  -1.0142987e+01  -9.8120760e+00  -9.3484189e+00  -8.9305027e+00  -8.8585447e+00  -8.8585447e+00             NaN             NaN             NaN             NaN             NaN             NaN             NaN             NaN             NaN             NaN\\n',\n",
       " '             NaN             NaN             NaN             NaN             NaN             NaN             NaN             NaN             NaN             NaN             NaN             NaN             NaN             NaN             NaN             NaN             NaN             NaN             NaN             NaN             NaN             NaN             NaN             NaN             NaN             NaN             NaN             NaN             NaN             NaN             NaN             NaN             NaN             NaN             NaN             NaN             NaN             NaN             NaN             NaN             NaN             NaN             NaN             NaN             NaN             NaN             NaN             NaN             NaN             NaN             NaN  -1.3467345e+01  -1.3526234e+01  -1.2768179e+01  -1.1713416e+01  -1.0945970e+01  -1.0503897e+01  -1.0066977e+01  -9.4695695e+00  -9.0184561e+00  -8.8585447e+00  -8.8585447e+00  -8.8585447e+00             NaN             NaN             NaN             NaN             NaN             NaN             NaN             NaN             NaN\\n',\n",
       " '             NaN             NaN             NaN             NaN             NaN             NaN             NaN             NaN             NaN             NaN             NaN             NaN             NaN             NaN             NaN             NaN             NaN             NaN             NaN             NaN             NaN  -2.1991431e+01             NaN             NaN             NaN             NaN             NaN             NaN             NaN             NaN             NaN             NaN             NaN             NaN             NaN             NaN             NaN             NaN             NaN             NaN             NaN             NaN             NaN             NaN             NaN             NaN             NaN             NaN             NaN             NaN             NaN  -1.3604227e+01  -1.3573558e+01  -1.2906965e+01  -1.1950028e+01  -1.1292692e+01  -1.0867533e+01  -1.0343490e+01  -9.6364689e+00  -9.1256015e+00  -8.9586285e+00  -9.0096023e+00  -9.1730706e+00             NaN             NaN             NaN             NaN             NaN             NaN             NaN             NaN             NaN\\n',\n",
       " '             NaN             NaN             NaN             NaN             NaN             NaN             NaN             NaN             NaN             NaN             NaN             NaN             NaN             NaN             NaN             NaN             NaN             NaN             NaN             NaN             NaN             NaN             NaN             NaN             NaN             NaN             NaN             NaN             NaN             NaN             NaN             NaN             NaN             NaN             NaN             NaN             NaN             NaN             NaN             NaN             NaN             NaN             NaN             NaN             NaN             NaN             NaN             NaN             NaN             NaN  -1.3387081e+01  -1.3856113e+01  -1.3691360e+01  -1.3044566e+01  -1.2216927e+01  -1.1579358e+01  -1.1200341e+01  -1.0635191e+01  -9.8711163e+00  -9.3165105e+00  -9.1366871e+00  -9.1809090e+00             NaN             NaN             NaN             NaN             NaN             NaN             NaN             NaN             NaN             NaN\\n',\n",
       " '             NaN             NaN             NaN             NaN             NaN             NaN             NaN             NaN             NaN             NaN             NaN             NaN             NaN             NaN             NaN             NaN             NaN             NaN             NaN             NaN             NaN             NaN             NaN             NaN             NaN             NaN             NaN             NaN             NaN             NaN             NaN             NaN             NaN             NaN             NaN             NaN             NaN             NaN             NaN             NaN             NaN             NaN             NaN             NaN             NaN             NaN             NaN  -1.3825575e+01  -1.1993218e+01  -1.3408862e+01  -1.3913189e+01  -1.3913189e+01  -1.3724725e+01  -1.3202177e+01  -1.2382913e+01  -1.1820300e+01  -1.1418626e+01  -1.0875403e+01  -1.0136855e+01  -9.5921745e+00  -9.4044322e+00  -9.4347784e+00             NaN             NaN             NaN             NaN             NaN             NaN             NaN             NaN             NaN             NaN\\n',\n",
       " '             NaN             NaN             NaN             NaN             NaN             NaN             NaN             NaN             NaN             NaN             NaN             NaN             NaN             NaN             NaN             NaN             NaN             NaN             NaN             NaN             NaN             NaN             NaN             NaN             NaN             NaN             NaN             NaN             NaN             NaN             NaN             NaN             NaN             NaN             NaN             NaN             NaN             NaN             NaN             NaN             NaN             NaN             NaN             NaN  -2.3263382e+01  -2.3263382e+01  -2.3263382e+01  -2.3263382e+01  -1.3981966e+01  -1.3981968e+01  -1.3981968e+01  -1.3981969e+01  -1.3780538e+01  -1.3229141e+01  -1.2460898e+01  -1.1901185e+01  -1.1522315e+01  -1.1041133e+01  -1.0380956e+01  -9.9042083e+00  -9.7290904e+00  -9.7373100e+00             NaN             NaN             NaN             NaN             NaN             NaN             NaN             NaN             NaN             NaN\\n',\n",
       " '             NaN             NaN             NaN             NaN             NaN             NaN             NaN             NaN             NaN             NaN             NaN             NaN             NaN             NaN             NaN             NaN             NaN             NaN             NaN             NaN             NaN             NaN             NaN             NaN             NaN             NaN             NaN             NaN             NaN             NaN             NaN             NaN             NaN             NaN             NaN             NaN  -3.9040330e+01  -3.9040330e+01  -3.7931739e+01  -3.5138918e+01  -2.5086021e+01             NaN             NaN             NaN             NaN             NaN             NaN  -1.7430157e+01  -1.2351050e+01  -1.3603841e+01  -1.4049197e+01  -1.4049197e+01  -1.3849136e+01  -1.3294491e+01  -1.2528323e+01  -1.1969166e+01  -1.1613205e+01  -1.1196144e+01  -1.0586339e+01  -1.0196404e+01  -1.0042021e+01  -1.0027175e+01             NaN             NaN             NaN             NaN             NaN             NaN             NaN             NaN             NaN             NaN\\n',\n",
       " '             NaN             NaN             NaN             NaN             NaN             NaN             NaN             NaN             NaN             NaN             NaN             NaN             NaN             NaN             NaN             NaN             NaN  -2.1991431e+01             NaN             NaN             NaN             NaN             NaN             NaN             NaN             NaN             NaN             NaN             NaN             NaN             NaN             NaN             NaN             NaN  -3.9258427e+01  -3.9040330e+01  -3.9040330e+01  -3.8176577e+01  -3.6252535e+01  -3.2179221e+01             NaN             NaN             NaN             NaN  -2.3263382e+01  -2.2018835e+01  -1.9226397e+01  -1.3272529e+01  -1.0232887e+01  -1.2701874e+01  -1.3680498e+01  -1.4106970e+01  -1.3923253e+01  -1.3396592e+01  -1.2672151e+01  -1.2122055e+01  -1.1846704e+01  -1.1414962e+01  -1.0874221e+01  -1.0441129e+01  -1.0316216e+01  -1.0281134e+01             NaN             NaN             NaN             NaN             NaN             NaN             NaN             NaN             NaN             NaN\\n',\n",
       " '             NaN             NaN             NaN             NaN             NaN             NaN             NaN             NaN             NaN             NaN             NaN             NaN             NaN             NaN             NaN             NaN             NaN             NaN             NaN             NaN             NaN             NaN             NaN             NaN             NaN             NaN             NaN             NaN             NaN             NaN  -4.0679374e+01  -4.1412026e+01  -4.1165706e+01  -4.0132016e+01  -3.9426795e+01  -3.9128174e+01  -3.8697250e+01  -3.7531022e+01  -3.4776964e+01  -3.0740586e+01  -2.7002830e+01  -2.5176901e+01  -2.3931918e+01  -2.3405681e+01  -2.2793318e+01  -2.1111246e+01  -1.7123519e+01  -1.1329334e+01  -9.4047902e+00  -1.1713492e+01  -1.3306293e+01  -1.3950826e+01  -1.3976691e+01  -1.3515113e+01  -1.2859922e+01  -1.2399297e+01  -1.2093498e+01  -1.1702686e+01  -1.1093332e+01  -1.0678026e+01  -1.0496961e+01             NaN             NaN             NaN             NaN             NaN             NaN             NaN             NaN             NaN             NaN             NaN\\n',\n",
       " '             NaN             NaN             NaN             NaN             NaN             NaN             NaN             NaN             NaN             NaN             NaN             NaN             NaN             NaN             NaN             NaN             NaN             NaN             NaN             NaN             NaN             NaN             NaN             NaN             NaN             NaN             NaN             NaN             NaN  -4.0311642e+01  -4.0894940e+01  -4.1541268e+01  -4.1364982e+01  -4.0433382e+01  -3.9596725e+01  -3.9174059e+01  -3.8518018e+01  -3.6867375e+01  -3.3600309e+01  -2.9962712e+01  -2.7327691e+01  -2.5697496e+01  -2.4225577e+01  -2.3480232e+01  -2.2547417e+01  -2.0168034e+01  -1.5462689e+01  -1.0298591e+01  -8.9565118e+00  -1.1038353e+01  -1.2906483e+01  -1.3850952e+01  -1.4018192e+01  -1.3632041e+01  -1.3094640e+01  -1.2703561e+01  -1.2388299e+01  -1.1907959e+01  -1.1248859e+01  -1.0779788e+01  -1.0598081e+01  -1.0598081e+01             NaN             NaN             NaN             NaN             NaN             NaN             NaN             NaN             NaN             NaN\\n',\n",
       " '             NaN             NaN             NaN             NaN             NaN             NaN             NaN             NaN             NaN             NaN             NaN             NaN             NaN             NaN             NaN             NaN             NaN             NaN             NaN             NaN             NaN             NaN             NaN             NaN             NaN             NaN             NaN  -3.9930246e+01  -4.0052078e+01  -4.0435691e+01  -4.1067736e+01  -4.1623098e+01  -4.1493649e+01  -4.0688008e+01  -4.0049538e+01  -3.9590160e+01  -3.8697114e+01  -3.6535208e+01  -3.2605641e+01  -2.9459859e+01  -2.7535584e+01  -2.6135119e+01  -2.4262013e+01  -2.3255861e+01  -2.1985994e+01  -1.9042357e+01  -1.4070143e+01  -9.6397279e+00  -8.6663451e+00  -1.0467429e+01  -1.2492341e+01  -1.3671603e+01  -1.3981293e+01  -1.3693810e+01  -1.3306660e+01  -1.3004483e+01  -1.2701999e+01  -1.2152275e+01  -1.1329191e+01  -1.0766625e+01  -1.0537374e+01  -1.0468534e+01             NaN             NaN             NaN             NaN             NaN             NaN             NaN             NaN             NaN             NaN\\n',\n",
       " '             NaN             NaN             NaN             NaN             NaN             NaN             NaN             NaN             NaN             NaN             NaN             NaN             NaN             NaN             NaN             NaN             NaN             NaN             NaN             NaN             NaN             NaN             NaN             NaN             NaN             NaN             NaN             NaN             NaN  -4.0566376e+01  -4.1212645e+01  -4.1679175e+01  -4.1582062e+01  -4.1341677e+01  -4.0895781e+01  -4.0601270e+01  -3.9517462e+01  -3.6808756e+01  -3.2708559e+01  -2.9114551e+01  -2.7677353e+01  -2.5890935e+01  -2.3865797e+01  -2.2517303e+01  -2.0977712e+01  -1.7801243e+01  -1.3026217e+01  -9.1905351e+00  -8.4670401e+00  -1.0115261e+01  -1.2094884e+01  -1.3402224e+01  -1.3854385e+01  -1.3653240e+01  -1.3410061e+01  -1.3237560e+01  -1.2960624e+01  -1.2262758e+01  -1.1341021e+01  -1.0668313e+01  -1.0422898e+01  -1.0361131e+01             NaN             NaN             NaN             NaN             NaN             NaN             NaN             NaN             NaN             NaN\\n',\n",
       " '             NaN             NaN             NaN             NaN             NaN             NaN             NaN             NaN             NaN             NaN             NaN             NaN             NaN             NaN             NaN             NaN             NaN             NaN             NaN             NaN             NaN             NaN             NaN             NaN             NaN             NaN             NaN             NaN             NaN             NaN             NaN             NaN  -4.1840709e+01  -4.1939577e+01  -4.2032337e+01  -4.2097830e+01  -4.0887005e+01  -3.7589746e+01  -3.2924451e+01  -2.9447442e+01  -2.7437954e+01  -2.5605537e+01  -2.3119183e+01  -2.1345499e+01  -1.9628785e+01  -1.6532872e+01  -1.2188595e+01  -9.0127269e+00  -8.4317602e+00  -9.8440941e+00  -1.1735020e+01  -1.3070583e+01  -1.3573882e+01  -1.3536580e+01  -1.3437374e+01  -1.3382238e+01  -1.3092527e+01  -1.2328181e+01  -1.1282698e+01  -1.0551423e+01  -1.0254084e+01  -1.0221782e+01             NaN             NaN             NaN             NaN             NaN             NaN             NaN             NaN             NaN             NaN\\n',\n",
       " '             NaN             NaN             NaN             NaN             NaN             NaN             NaN             NaN             NaN             NaN             NaN             NaN             NaN             NaN             NaN             NaN             NaN             NaN             NaN             NaN             NaN             NaN             NaN             NaN             NaN             NaN             NaN             NaN             NaN             NaN             NaN             NaN             NaN             NaN             NaN  -4.3803565e+01  -4.2549911e+01  -3.8727338e+01  -3.3435081e+01  -2.9576718e+01  -2.7327956e+01  -2.5160180e+01  -2.2152518e+01  -1.9958906e+01  -1.8185943e+01  -1.5399984e+01  -1.1576332e+01  -8.8423648e+00  -8.3802041e+00  -9.6781304e+00  -1.1454471e+01  -1.2736543e+01  -1.3255561e+01  -1.3301294e+01  -1.3365025e+01  -1.3411466e+01  -1.3135032e+01  -1.2301804e+01  -1.1172623e+01  -1.0378947e+01  -1.0052257e+01  -1.0034254e+01             NaN             NaN             NaN             NaN             NaN             NaN             NaN             NaN             NaN             NaN\\n',\n",
       " '             NaN             NaN             NaN             NaN             NaN             NaN             NaN             NaN             NaN             NaN             NaN             NaN             NaN             NaN             NaN             NaN             NaN             NaN             NaN             NaN             NaN             NaN             NaN             NaN             NaN             NaN             NaN             NaN             NaN  -4.1108806e+01  -4.1641285e+01  -4.1844584e+01  -4.2274158e+01  -4.3248831e+01  -4.4604266e+01  -4.5561625e+01  -4.4351719e+01  -4.0164282e+01  -3.4267701e+01  -3.0017478e+01  -2.7459531e+01  -2.4839159e+01  -2.1010532e+01  -1.8487085e+01  -1.6780845e+01  -1.4436665e+01  -1.1145453e+01  -8.7380624e+00  -8.3636714e+00  -9.6023766e+00  -1.1259881e+01  -1.2429944e+01  -1.2928858e+01  -1.3057374e+01  -1.3244439e+01  -1.3377500e+01  -1.3114957e+01  -1.2227814e+01  -1.0984273e+01  -1.0158401e+01  -9.8340788e+00  -9.8247032e+00             NaN             NaN             NaN             NaN             NaN             NaN             NaN             NaN             NaN             NaN\\n',\n",
       " '             NaN             NaN             NaN             NaN             NaN             NaN             NaN             NaN             NaN             NaN             NaN             NaN             NaN             NaN             NaN             NaN             NaN             NaN             NaN             NaN             NaN             NaN             NaN             NaN             NaN             NaN             NaN             NaN             NaN  -4.1567365e+01  -4.1908855e+01  -4.2052479e+01  -4.2609425e+01  -4.3883067e+01  -4.5698410e+01  -4.7061154e+01  -4.5976095e+01  -4.1425072e+01  -3.5325306e+01  -3.0767914e+01  -2.8131550e+01  -2.4940172e+01  -2.0594444e+01  -1.7190922e+01  -1.5664864e+01  -1.3775209e+01  -1.0936171e+01  -8.4929745e+00  -8.2928156e+00  -9.6295167e+00  -1.1180756e+01  -1.2205774e+01  -1.2651807e+01  -1.2862547e+01  -1.3142697e+01  -1.3335579e+01  -1.3127612e+01  -1.2164580e+01  -1.0886086e+01  -9.9342634e+00  -9.6420722e+00  -9.6364421e+00             NaN             NaN             NaN             NaN             NaN             NaN             NaN             NaN             NaN             NaN\\n',\n",
       " '             NaN             NaN             NaN             NaN             NaN             NaN             NaN             NaN             NaN             NaN             NaN             NaN             NaN             NaN             NaN             NaN             NaN             NaN             NaN             NaN             NaN             NaN             NaN             NaN             NaN             NaN             NaN             NaN             NaN             NaN             NaN  -4.2282077e+01  -4.2882908e+01  -4.4396475e+01  -4.6512827e+01  -4.8012523e+01  -4.6923579e+01  -4.2540088e+01  -3.6442080e+01  -3.2033023e+01  -2.9098258e+01  -2.5472846e+01  -2.0398281e+01  -1.6714941e+01  -1.4950494e+01  -1.3475482e+01  -1.0791019e+01  -8.7065277e+00  -8.4352941e+00  -9.7087084e+00  -1.1230282e+01  -1.2086454e+01  -1.2478092e+01  -1.2725998e+01  -1.3056778e+01  -1.3319562e+01  -1.3087177e+01  -1.2139153e+01  -1.0802098e+01  -9.8665014e+00  -9.5149856e+00             NaN             NaN             NaN             NaN             NaN             NaN             NaN             NaN             NaN             NaN             NaN\\n',\n",
       " '             NaN             NaN             NaN             NaN             NaN             NaN             NaN             NaN             NaN             NaN             NaN             NaN             NaN             NaN             NaN             NaN             NaN             NaN             NaN             NaN             NaN             NaN             NaN             NaN             NaN             NaN             NaN             NaN             NaN             NaN             NaN             NaN             NaN             NaN             NaN             NaN             NaN             NaN  -3.7532656e+01  -3.3364665e+01  -3.0335993e+01  -2.6286432e+01  -2.0658738e+01  -1.6547451e+01  -1.4773369e+01  -1.3651812e+01  -1.1437299e+01  -9.0121147e+00  -8.6373958e+00  -1.0106693e+01  -1.1428011e+01  -1.2097045e+01  -1.2412025e+01  -1.2675620e+01  -1.3042376e+01  -1.3309210e+01  -1.3068517e+01  -1.2100815e+01  -1.0772120e+01  -9.8249238e+00  -9.4606147e+00             NaN             NaN             NaN             NaN             NaN             NaN             NaN             NaN             NaN             NaN             NaN\\n',\n",
       " '             NaN             NaN             NaN             NaN             NaN             NaN             NaN             NaN             NaN             NaN             NaN             NaN             NaN             NaN             NaN             NaN             NaN             NaN             NaN             NaN             NaN             NaN             NaN             NaN             NaN             NaN             NaN             NaN             NaN             NaN             NaN             NaN             NaN  -4.4853609e+01  -4.6985971e+01  -4.8470444e+01             NaN             NaN             NaN  -3.4573710e+01  -3.1657124e+01  -2.7366510e+01  -2.1272714e+01  -1.6721434e+01  -1.4889458e+01  -1.4096718e+01  -1.2219303e+01  -9.4963180e+00  -8.9540583e+00  -1.0584600e+01  -1.1699071e+01  -1.2172064e+01  -1.2414703e+01  -1.2682241e+01  -1.3046443e+01  -1.3305724e+01  -1.3073130e+01  -1.2128363e+01  -1.0801032e+01  -9.8616479e+00  -9.5200871e+00  -9.5860200e+00             NaN             NaN             NaN             NaN             NaN             NaN             NaN             NaN             NaN             NaN\\n',\n",
       " '             NaN             NaN             NaN             NaN             NaN             NaN             NaN             NaN             NaN             NaN             NaN             NaN             NaN             NaN             NaN             NaN             NaN             NaN             NaN             NaN             NaN             NaN             NaN             NaN             NaN             NaN             NaN             NaN             NaN             NaN             NaN             NaN  -4.3529446e+01  -4.5238083e+01             NaN             NaN             NaN             NaN             NaN             NaN             NaN  -2.8678514e+01  -2.2216387e+01  -1.6863372e+01  -1.5111082e+01  -1.4531845e+01  -1.3214182e+01  -1.0415012e+01  -9.5421917e+00  -1.1186432e+01  -1.1963785e+01  -1.2315657e+01  -1.2410258e+01  -1.2709791e+01  -1.3070175e+01  -1.3309780e+01  -1.3101754e+01  -1.2155846e+01  -1.0896734e+01  -9.9405005e+00  -9.6634222e+00  -9.7091069e+00             NaN             NaN             NaN             NaN             NaN             NaN             NaN             NaN             NaN             NaN\\n',\n",
       " '             NaN             NaN             NaN             NaN             NaN             NaN             NaN             NaN             NaN             NaN             NaN             NaN             NaN             NaN             NaN             NaN             NaN             NaN             NaN             NaN             NaN             NaN             NaN             NaN             NaN             NaN             NaN             NaN  -3.3078182e+01  -3.8104693e+01  -4.1482920e+01  -4.2838177e+01  -4.3856600e+01             NaN             NaN             NaN             NaN             NaN  -4.0312836e+01  -3.6120780e+01  -3.3889508e+01  -3.0061479e+01  -2.3423405e+01             NaN             NaN             NaN             NaN             NaN             NaN             NaN             NaN  -1.2315657e+01  -1.2442469e+01  -1.2750238e+01  -1.3112226e+01  -1.3320757e+01  -1.3086975e+01  -1.2224096e+01  -1.1006844e+01  -1.0167979e+01  -9.8729959e+00  -9.9051556e+00             NaN             NaN             NaN             NaN             NaN             NaN             NaN             NaN             NaN             NaN\\n',\n",
       " '             NaN             NaN             NaN             NaN             NaN             NaN             NaN             NaN             NaN             NaN             NaN             NaN             NaN             NaN             NaN             NaN             NaN             NaN             NaN             NaN             NaN             NaN             NaN             NaN             NaN             NaN             NaN             NaN             NaN             NaN             NaN  -4.2656839e+01  -4.3980020e+01  -4.5807847e+01  -4.8407210e+01             NaN             NaN             NaN             NaN             NaN             NaN  -3.1430233e+01  -2.5265298e+01             NaN             NaN             NaN             NaN             NaN             NaN             NaN             NaN  -1.2315657e+01  -1.2489541e+01  -1.2847387e+01  -1.3172872e+01  -1.3337797e+01  -1.3107574e+01  -1.2308022e+01  -1.1210343e+01  -1.0414740e+01  -1.0127427e+01  -1.0124436e+01             NaN             NaN             NaN             NaN             NaN             NaN             NaN             NaN             NaN             NaN\\n',\n",
       " '             NaN             NaN             NaN             NaN             NaN             NaN             NaN             NaN             NaN             NaN             NaN             NaN             NaN             NaN             NaN             NaN             NaN             NaN             NaN             NaN             NaN             NaN  -1.5665723e+01  -1.7069547e+01  -1.8317870e+01  -2.0698737e+01  -2.4955185e+01  -2.8597412e+01  -3.1617591e+01  -3.5271942e+01             NaN             NaN             NaN             NaN             NaN  -5.0937619e+01  -5.0241614e+01  -4.6462316e+01  -4.1354092e+01  -3.7629538e+01  -3.5898329e+01             NaN             NaN             NaN             NaN             NaN             NaN             NaN             NaN             NaN             NaN  -1.2315657e+01  -1.2562970e+01  -1.2963158e+01  -1.3220284e+01  -1.3330276e+01  -1.3104859e+01  -1.2374628e+01  -1.1354108e+01  -1.0636239e+01  -1.0380471e+01  -1.0362815e+01             NaN             NaN             NaN             NaN             NaN             NaN             NaN             NaN             NaN             NaN\\n',\n",
       " '             NaN             NaN             NaN             NaN             NaN             NaN             NaN             NaN             NaN             NaN             NaN             NaN             NaN             NaN             NaN             NaN             NaN             NaN             NaN             NaN             NaN             NaN             NaN             NaN  -1.8243687e+01  -2.1022171e+01  -2.5324306e+01  -2.8982355e+01  -3.1219881e+01  -3.4540035e+01  -3.8600824e+01  -4.1276426e+01  -4.3039809e+01  -4.5595902e+01  -4.8994016e+01  -5.1626461e+01  -5.0933393e+01  -4.7207754e+01  -4.2407962e+01  -3.8630186e+01             NaN             NaN             NaN             NaN             NaN             NaN             NaN             NaN             NaN             NaN  -1.2315657e+01  -1.2315657e+01  -1.2702466e+01  -1.3063081e+01  -1.3219016e+01  -1.3285613e+01  -1.3099977e+01  -1.2396443e+01  -1.1492933e+01  -1.0812738e+01  -1.0600482e+01  -1.0563079e+01             NaN             NaN             NaN             NaN             NaN             NaN             NaN             NaN             NaN             NaN\\n',\n",
       " '             NaN             NaN             NaN             NaN             NaN             NaN             NaN             NaN             NaN             NaN             NaN             NaN             NaN             NaN             NaN             NaN             NaN             NaN             NaN  -1.0227650e+01  -1.0865464e+01             NaN             NaN             NaN  -1.7936154e+01  -2.1053407e+01  -2.5526145e+01  -2.8863664e+01  -3.1061827e+01  -3.3811236e+01  -3.7495456e+01  -4.0089920e+01  -4.2062962e+01  -4.4899273e+01  -4.8885952e+01  -5.1518234e+01             NaN             NaN             NaN  -4.0687276e+01             NaN             NaN             NaN             NaN             NaN             NaN             NaN             NaN             NaN             NaN             NaN  -1.2315657e+01  -1.2924517e+01  -1.3109598e+01  -1.3173548e+01  -1.3173548e+01  -1.2976035e+01  -1.2407451e+01  -1.1551175e+01  -1.0957494e+01  -1.0742654e+01  -1.0703552e+01             NaN             NaN             NaN             NaN             NaN             NaN             NaN             NaN             NaN             NaN\\n',\n",
       " '             NaN             NaN             NaN             NaN             NaN             NaN             NaN             NaN             NaN             NaN             NaN             NaN             NaN             NaN             NaN             NaN             NaN             NaN             NaN             NaN             NaN             NaN  -1.4380403e+01  -1.5768146e+01  -1.7514868e+01  -2.0827563e+01  -2.5474129e+01  -2.8861600e+01  -3.0905903e+01  -3.3247451e+01  -3.6458547e+01  -3.8771829e+01  -4.0827531e+01  -4.4069475e+01  -4.8522308e+01  -5.1729127e+01             NaN             NaN             NaN             NaN             NaN  -4.1923529e+01             NaN             NaN             NaN             NaN             NaN             NaN             NaN             NaN             NaN             NaN  -1.3040850e+01  -1.3040275e+01  -1.3040275e+01  -1.3040275e+01  -1.2847012e+01  -1.2297791e+01  -1.1542837e+01  -1.0994814e+01  -1.0800119e+01  -1.0800119e+01             NaN             NaN             NaN             NaN             NaN             NaN             NaN             NaN             NaN             NaN\\n',\n",
       " '             NaN             NaN             NaN             NaN             NaN             NaN             NaN             NaN             NaN             NaN             NaN             NaN             NaN  -6.9239804e+00  -6.7565996e+00  -6.6428402e+00  -7.1630392e+00             NaN             NaN  -1.0050826e+01  -1.0782665e+01  -1.2123242e+01  -1.4011194e+01  -1.5330215e+01  -1.7011429e+01  -2.0366035e+01  -2.4928882e+01  -2.8298433e+01  -3.0262840e+01  -3.2397433e+01  -3.5585487e+01  -3.7511322e+01  -3.9504878e+01  -4.3006943e+01  -4.7903671e+01  -5.1401562e+01  -5.1976823e+01             NaN             NaN             NaN             NaN             NaN             NaN             NaN             NaN             NaN             NaN             NaN             NaN             NaN             NaN             NaN             NaN             NaN  -1.2907002e+01  -1.2907003e+01  -1.2731671e+01  -1.2226939e+01  -1.1534734e+01  -1.1032939e+01  -1.0854005e+01  -1.0861186e+01             NaN             NaN             NaN             NaN             NaN             NaN             NaN             NaN             NaN             NaN\\n',\n",
       " '             NaN             NaN             NaN             NaN             NaN             NaN             NaN             NaN             NaN             NaN             NaN             NaN             NaN  -7.1479081e+00  -6.8079115e+00  -6.6428402e+00  -6.9828012e+00  -8.0314174e+00  -9.2698109e+00  -1.0082292e+01  -1.0740320e+01  -1.2046646e+01  -1.3722990e+01  -1.4993479e+01  -1.6499084e+01  -1.9516468e+01  -2.3762495e+01  -2.6981595e+01  -2.8567067e+01  -3.0977962e+01  -3.4027400e+01  -3.6485761e+01  -3.8283401e+01  -4.2064977e+01  -4.7092237e+01  -5.0825629e+01  -5.1818950e+01             NaN             NaN             NaN             NaN  -4.5061185e+01  -4.1432384e+01             NaN             NaN             NaN             NaN             NaN             NaN             NaN             NaN             NaN  -1.1682566e+01  -1.2409344e+01  -1.2679543e+01  -1.2794938e+01  -1.2645951e+01  -1.2200296e+01  -1.1596062e+01  -1.1128622e+01  -1.1000069e+01  -1.1005555e+01             NaN             NaN             NaN             NaN             NaN             NaN             NaN             NaN             NaN             NaN\\n',\n",
       " '             NaN             NaN             NaN             NaN             NaN             NaN             NaN             NaN             NaN             NaN             NaN             NaN             NaN             NaN             NaN             NaN  -7.0110709e+00  -7.9792590e+00  -9.2769021e+00  -1.0189145e+01  -1.0926356e+01  -1.1980782e+01  -1.3581065e+01  -1.4693788e+01  -1.6023313e+01  -1.8549516e+01  -2.2150487e+01  -2.4700853e+01  -2.6466822e+01  -2.8945389e+01  -3.2708909e+01  -3.5288148e+01  -3.7583432e+01  -4.1206410e+01  -4.6217758e+01  -4.9794734e+01  -5.0904448e+01  -5.0291274e+01  -4.9060599e+01  -4.8304249e+01  -4.7329993e+01  -4.4821357e+01  -3.8829572e+01  -2.9415879e+01  -2.3829517e+01  -2.3829517e+01  -2.3829517e+01  -2.3829517e+01  -1.1114252e+01  -1.1114252e+01  -1.1114252e+01  -1.1114252e+01  -1.1477616e+01  -1.2065588e+01  -1.2501509e+01  -1.2670183e+01  -1.2590017e+01  -1.2224535e+01  -1.1700578e+01  -1.1351323e+01  -1.1223549e+01  -1.1216964e+01             NaN             NaN             NaN             NaN             NaN             NaN             NaN             NaN             NaN             NaN\\n',\n",
       " '             NaN             NaN             NaN             NaN             NaN             NaN             NaN             NaN             NaN             NaN             NaN             NaN             NaN             NaN             NaN             NaN  -7.0155597e+00  -8.0067044e+00  -9.3649190e+00  -1.0340336e+01  -1.1103906e+01  -1.2138850e+01  -1.3570068e+01  -1.4616027e+01  -1.5696841e+01  -1.7590459e+01  -2.0244420e+01  -2.2181343e+01  -2.4003751e+01  -2.7210951e+01  -3.1614557e+01  -3.4791385e+01  -3.7220821e+01  -4.0645671e+01  -4.5343363e+01  -4.8734264e+01  -4.9883792e+01  -4.9524369e+01  -4.9026809e+01  -4.8664097e+01  -4.7418967e+01  -4.3663728e+01  -3.6170892e+01  -2.7750867e+01  -2.3829517e+01  -2.3829517e+01  -2.3829517e+01  -2.3829517e+01  -1.1114252e+01  -1.1114252e+01  -1.1114252e+01  -1.1114252e+01  -1.1369732e+01  -1.1895491e+01  -1.2373705e+01  -1.2616020e+01  -1.2587586e+01  -1.2292682e+01  -1.1887815e+01  -1.1594087e+01  -1.1480453e+01  -1.1459123e+01             NaN             NaN             NaN             NaN             NaN             NaN             NaN             NaN             NaN             NaN\\n',\n",
       " '             NaN             NaN             NaN             NaN             NaN             NaN             NaN             NaN             NaN             NaN             NaN             NaN             NaN  -7.7845353e+00  -7.1792954e+00  -6.8119939e+00  -7.0768308e+00  -8.0987466e+00  -9.5211199e+00  -1.0516679e+01  -1.1253170e+01  -1.2224793e+01  -1.3502050e+01  -1.4454345e+01  -1.5277838e+01  -1.6544711e+01  -1.8433139e+01  -1.9654088e+01  -2.1405573e+01  -2.5211294e+01  -3.0471751e+01  -3.4243102e+01  -3.6805466e+01  -4.0034043e+01  -4.4693439e+01  -4.7740044e+01  -4.8849320e+01  -4.8765691e+01  -4.8318951e+01  -4.8114055e+01  -4.6559025e+01  -4.1898752e+01  -3.3932276e+01  -2.6687294e+01  -2.3829517e+01  -2.3829517e+01  -2.2437606e+01  -1.8812409e+01  -1.0949213e+01  -1.1067074e+01  -1.1114252e+01  -1.1114252e+01  -1.1300570e+01  -1.1752757e+01  -1.2277193e+01  -1.2581634e+01  -1.2603756e+01  -1.2376515e+01  -1.2058561e+01  -1.1835193e+01  -1.1747065e+01  -1.1716893e+01  -1.1663081e+01             NaN             NaN             NaN             NaN             NaN             NaN             NaN             NaN             NaN\\n',\n",
       " '             NaN             NaN             NaN             NaN             NaN             NaN             NaN             NaN             NaN             NaN             NaN             NaN             NaN  -7.9499000e+00  -7.3592318e+00  -6.9673769e+00  -7.1740782e+00  -8.2428688e+00  -9.6538076e+00  -1.0700345e+01  -1.1355620e+01  -1.2118850e+01  -1.3194762e+01  -1.4032957e+01  -1.4389105e+01  -1.5429659e+01  -1.6606417e+01  -1.7565611e+01  -1.9129977e+01  -2.3390516e+01  -2.9093775e+01  -3.3244049e+01  -3.5645996e+01  -3.9106863e+01  -4.3529707e+01  -4.6987924e+01  -4.7983195e+01  -4.7530308e+01  -4.7122666e+01  -4.6739954e+01  -4.5017123e+01  -3.9964492e+01  -3.2279396e+01  -2.5959239e+01  -2.3829517e+01  -2.2774367e+01  -2.0374100e+01  -1.5275132e+01  -1.0824777e+01  -1.0996391e+01  -1.1077527e+01  -1.1114252e+01  -1.1255353e+01             NaN             NaN             NaN  -1.2627208e+01  -1.2436049e+01  -1.2205488e+01  -1.2031984e+01  -1.1971137e+01  -1.1936216e+01  -1.1851070e+01             NaN             NaN             NaN             NaN             NaN             NaN             NaN             NaN             NaN\\n',\n",
       " '             NaN             NaN             NaN             NaN             NaN             NaN             NaN             NaN             NaN             NaN             NaN             NaN             NaN  -8.0688520e+00  -7.5488009e+00  -7.1788971e+00  -7.4134700e+00  -8.3966190e+00  -9.7882030e+00  -1.0772545e+01  -1.1352375e+01  -1.1919518e+01  -1.2732621e+01  -1.3277640e+01  -1.3665466e+01  -1.4172825e+01  -1.5290548e+01  -1.5958564e+01  -1.7672953e+01  -2.1871980e+01  -2.7601746e+01  -3.1791799e+01  -3.4487136e+01  -3.7762957e+01  -4.2632545e+01  -4.6009351e+01  -4.7053186e+01  -4.6427914e+01  -4.5466584e+01  -4.4904044e+01  -4.2963526e+01  -3.8001805e+01  -3.0954891e+01  -2.5691749e+01  -2.3425797e+01  -2.1981735e+01  -1.8561809e+01  -1.3601613e+01  -1.0763394e+01             NaN             NaN             NaN             NaN             NaN  -1.2135207e+01  -1.2497438e+01  -1.2593884e+01  -1.2486541e+01  -1.2296345e+01  -1.2173749e+01  -1.2125167e+01  -1.2088028e+01  -1.1972635e+01  -1.1781985e+01             NaN             NaN             NaN             NaN             NaN             NaN             NaN             NaN\\n',\n",
       " '             NaN             NaN             NaN             NaN             NaN             NaN             NaN             NaN             NaN             NaN             NaN  -8.5943570e+00  -8.4777684e+00  -8.1660890e+00  -7.7296053e+00  -7.4138077e+00  -7.6557338e+00  -8.5991594e+00  -9.8944256e+00  -1.0826442e+01  -1.1295489e+01  -1.1622839e+01  -1.2073233e+01  -1.2399627e+01  -1.2794399e+01  -1.3547750e+01  -1.4599003e+01  -1.5364766e+01  -1.7028051e+01  -2.0966309e+01  -2.6365979e+01  -3.0256564e+01  -3.3060231e+01  -3.6800966e+01  -4.1939069e+01  -4.5654307e+01  -4.6634192e+01  -4.5500921e+01  -4.3934449e+01  -4.2794209e+01  -4.0768544e+01  -3.6263051e+01  -3.0001760e+01  -2.5427575e+01  -2.3214352e+01  -2.1171303e+01  -1.7137329e+01  -1.2719585e+01  -1.0730343e+01  -1.0883697e+01  -1.1021606e+01  -1.1091434e+01  -1.1244726e+01  -1.1601610e+01  -1.2098167e+01  -1.2459438e+01  -1.2559063e+01  -1.2458308e+01  -1.2319772e+01  -1.2219083e+01  -1.2183435e+01  -1.2183435e+01  -1.2183435e+01  -1.2183435e+01             NaN             NaN             NaN             NaN             NaN             NaN             NaN             NaN\\n',\n",
       " '             NaN             NaN             NaN             NaN             NaN             NaN             NaN             NaN             NaN             NaN             NaN  -8.5943570e+00  -8.4867862e+00  -8.2392323e+00  -7.8898143e+00  -7.6403340e+00  -7.8679030e+00  -8.7343524e+00  -9.9334365e+00  -1.0785432e+01  -1.1141406e+01  -1.1257935e+01  -1.1448099e+01  -1.1547107e+01  -1.1917042e+01  -1.2877642e+01  -1.4013050e+01  -1.4907002e+01  -1.6509920e+01  -2.0142050e+01  -2.5388008e+01  -2.8801628e+01  -3.1521134e+01  -3.5567579e+01  -4.0738220e+01  -4.4605912e+01  -4.5518620e+01  -4.4057044e+01  -4.2305496e+01  -4.0631231e+01  -3.8658344e+01  -3.4814783e+01  -2.9150363e+01  -2.5140200e+01  -2.2911018e+01  -2.0354642e+01  -1.5960075e+01  -1.2162937e+01  -1.0709249e+01  -1.0842157e+01  -1.0916201e+01  -1.0983921e+01  -1.1144157e+01  -1.1517478e+01  -1.2085779e+01  -1.2430261e+01  -1.2526287e+01  -1.2436662e+01  -1.2231605e+01  -1.2112349e+01  -1.2068657e+01  -1.2042441e+01  -1.1877728e+01  -1.1464347e+01             NaN             NaN             NaN             NaN             NaN             NaN             NaN             NaN\\n',\n",
       " '             NaN             NaN             NaN             NaN             NaN             NaN             NaN             NaN  -8.5943570e+00  -8.5943570e+00  -8.5943570e+00  -8.5943570e+00  -8.5234645e+00  -8.2847321e+00  -8.0121106e+00  -7.8275808e+00  -8.0356423e+00  -8.8166463e+00  -9.8642672e+00  -1.0673033e+01  -1.0827967e+01  -1.0855522e+01  -1.0811497e+01  -1.0800851e+01  -1.1126588e+01  -1.1847474e+01  -1.2963881e+01  -1.3758062e+01  -1.5061779e+01  -1.8904875e+01  -2.3813901e+01  -2.7641162e+01  -3.0086940e+01  -3.3536838e+01  -3.8431152e+01  -4.2050096e+01  -4.2747002e+01  -4.1547713e+01  -3.9781144e+01  -3.8729496e+01  -3.6949830e+01  -3.3222940e+01  -2.8319213e+01  -2.4434165e+01  -2.2501256e+01  -1.9626055e+01  -1.5306331e+01  -1.1773907e+01  -1.0694377e+01  -1.0673160e+01  -1.0692835e+01  -1.0705833e+01  -1.0846563e+01  -1.1307800e+01  -1.1916764e+01  -1.2414605e+01  -1.2500518e+01  -1.2270100e+01  -1.2010000e+01  -1.1809859e+01  -1.1753582e+01  -1.1737457e+01  -1.1632672e+01  -1.1373413e+01             NaN             NaN             NaN             NaN             NaN             NaN             NaN             NaN\\n',\n",
       " '             NaN             NaN             NaN             NaN             NaN             NaN             NaN             NaN             NaN             NaN             NaN             NaN             NaN  -8.3301279e+00  -8.0834585e+00  -7.9512408e+00  -8.1528823e+00  -8.8117977e+00  -9.7539321e+00  -1.0371214e+01  -1.0544028e+01  -1.0413847e+01  -1.0356100e+01  -1.0270192e+01  -1.0417962e+01  -1.0930286e+01  -1.1603634e+01  -1.2164218e+01  -1.3612600e+01  -1.7214006e+01  -2.2634147e+01  -2.6364423e+01  -2.8756109e+01  -3.1559880e+01  -3.5401588e+01  -3.8197321e+01  -3.8974719e+01  -3.8255350e+01  -3.7534150e+01  -3.6910420e+01  -3.5508128e+01  -3.2210469e+01  -2.7352310e+01  -2.4206327e+01  -2.2051054e+01  -1.9049842e+01  -1.4836115e+01  -1.1753970e+01  -1.0614223e+01  -1.0520903e+01  -1.0396031e+01  -1.0307889e+01  -1.0462456e+01  -1.0985537e+01  -1.1756289e+01  -1.2301315e+01  -1.2400224e+01  -1.2102051e+01  -1.1679121e+01  -1.1390583e+01  -1.1294326e+01  -1.1312512e+01  -1.1325841e+01  -1.1252842e+01             NaN             NaN             NaN             NaN             NaN             NaN             NaN             NaN\\n',\n",
       " '             NaN             NaN             NaN             NaN             NaN             NaN             NaN             NaN             NaN             NaN             NaN             NaN             NaN             NaN             NaN  -7.9889139e+00  -8.1691323e+00  -8.7251642e+00  -9.4901283e+00  -1.0041959e+01  -1.0223882e+01  -1.0175665e+01  -1.0108015e+01  -1.0058593e+01  -1.0061705e+01  -1.0124789e+01  -1.0214127e+01  -1.0280401e+01  -1.1776293e+01  -1.5970868e+01  -2.1724756e+01  -2.5875808e+01  -2.7991485e+01  -2.9686903e+01  -3.2012178e+01  -3.3691221e+01  -3.4496935e+01  -3.4942356e+01  -3.5558925e+01  -3.6008481e+01  -3.5021350e+01  -3.1731955e+01  -2.7168113e+01  -2.3839485e+01  -2.1607154e+01  -1.8646421e+01  -1.4582892e+01  -1.1677409e+01  -1.0565871e+01  -1.0346706e+01  -1.0046758e+01  -9.8302655e+00  -9.9874072e+00  -1.0649834e+01  -1.1572998e+01  -1.2245735e+01  -1.2344507e+01  -1.1910055e+01  -1.1313655e+01  -1.0881503e+01  -1.0745605e+01  -1.0825447e+01  -1.0995197e+01  -1.1118257e+01             NaN             NaN             NaN             NaN             NaN             NaN             NaN             NaN\\n',\n",
       " '             NaN             NaN             NaN             NaN             NaN             NaN             NaN             NaN             NaN             NaN             NaN             NaN             NaN             NaN  -8.0475569e+00  -7.9790679e+00  -8.1419480e+00  -8.6253509e+00  -9.2722288e+00  -9.7246237e+00  -9.9012666e+00  -9.9358275e+00  -9.8524100e+00  -9.8405351e+00  -9.7031522e+00  -9.3298279e+00  -8.8606224e+00  -8.4229896e+00  -9.9066629e+00  -1.4466332e+01  -2.1357821e+01  -2.6099974e+01  -2.7934940e+01  -2.8358599e+01  -2.8815941e+01  -2.9328335e+01  -3.0106792e+01  -3.1672284e+01  -3.3279780e+01  -3.4651076e+01  -3.4068466e+01  -3.0919990e+01  -2.6760754e+01  -2.3400976e+01  -2.1246315e+01  -1.8455165e+01  -1.4563894e+01  -1.1811100e+01  -1.0687927e+01  -1.0298476e+01  -9.6900400e+00  -9.3574496e+00  -9.5063223e+00  -1.0275651e+01  -1.1364177e+01  -1.2149260e+01  -1.2247385e+01  -1.1691879e+01  -1.0926644e+01  -1.0374282e+01  -1.0211991e+01  -1.0350544e+01  -1.0664704e+01  -1.0973820e+01             NaN             NaN             NaN             NaN             NaN             NaN             NaN             NaN\\n',\n",
       " '             NaN             NaN             NaN             NaN             NaN             NaN             NaN             NaN             NaN             NaN             NaN             NaN             NaN  -8.1241505e+00  -8.0103956e+00  -7.9603337e+00  -8.0838864e+00  -8.5655312e+00  -9.1066440e+00  -9.4636190e+00  -9.6241214e+00  -9.4858813e+00  -9.3859785e+00  -9.2873746e+00  -8.9685811e+00  -8.3880594e+00  -7.4611681e+00  -6.8143682e+00  -8.0947256e+00  -1.4020605e+01  -2.1601962e+01  -2.7212707e+01  -2.8399798e+01  -2.7771917e+01  -2.6560835e+01  -2.5509960e+01  -2.6206825e+01  -2.7671815e+01  -2.9996713e+01  -3.1477637e+01  -3.1539592e+01  -2.8892988e+01  -2.5352623e+01  -2.2930055e+01  -2.1003195e+01  -1.8344966e+01  -1.4798960e+01  -1.2119371e+01  -1.1128114e+01  -1.0501522e+01  -9.6435709e+00  -8.9324491e+00  -9.0633241e+00  -9.9347012e+00  -1.1111329e+01  -1.1979673e+01  -1.2063730e+01  -1.1430784e+01  -1.0559241e+01  -9.9233287e+00  -9.7702322e+00  -9.9595631e+00  -1.0383470e+01  -1.0852224e+01             NaN             NaN             NaN             NaN             NaN             NaN             NaN             NaN\\n',\n",
       " '             NaN             NaN             NaN             NaN             NaN             NaN             NaN             NaN             NaN             NaN             NaN             NaN             NaN  -8.0255681e+00  -7.9603337e+00  -7.9603337e+00  -8.1256854e+00  -8.5193406e+00  -9.0271541e+00  -9.2985244e+00  -9.2997040e+00  -9.0711910e+00  -8.7250827e+00  -8.5200569e+00  -8.1593068e+00  -7.3441033e+00  -6.4251176e+00  -5.6803965e+00  -7.5996354e+00  -1.3853222e+01  -2.2516463e+01  -2.8651115e+01  -2.9960888e+01  -2.7793019e+01  -2.5338530e+01  -2.3379445e+01  -2.3142577e+01  -2.4477320e+01  -2.6044542e+01  -2.7597124e+01  -2.7635759e+01  -2.6053732e+01  -2.3805643e+01  -2.2185876e+01  -2.0776259e+01  -1.8443072e+01  -1.5130850e+01  -1.2920492e+01  -1.1809152e+01  -1.0918479e+01  -9.7083023e+00  -8.8322830e+00  -8.8034849e+00  -9.6643448e+00  -1.0859706e+01  -1.1738232e+01  -1.1830664e+01  -1.1163295e+01  -1.0277281e+01  -9.6408810e+00  -9.4646625e+00  -9.6632328e+00  -1.0142065e+01  -1.0745747e+01             NaN             NaN             NaN             NaN             NaN             NaN             NaN             NaN\\n',\n",
       " '             NaN             NaN             NaN             NaN             NaN             NaN             NaN             NaN             NaN             NaN             NaN             NaN             NaN  -7.9603337e+00  -7.9603337e+00  -7.9603337e+00  -8.1864968e+00  -8.6408859e+00  -9.0470879e+00  -9.2519050e+00  -9.1402271e+00  -8.6951245e+00  -8.0836358e+00  -7.6395273e+00  -7.2552056e+00  -6.6575709e+00  -5.8196331e+00  -5.2085842e+00  -7.4061073e+00  -1.4290411e+01  -2.3738460e+01  -3.0544400e+01  -3.1884698e+01  -2.9145681e+01  -2.5383216e+01  -2.2661935e+01  -2.1770459e+01  -2.2143386e+01  -2.2659021e+01  -2.3034483e+01  -2.3037356e+01  -2.2636053e+01  -2.2078556e+01  -2.1671401e+01  -2.0776283e+01  -1.8695635e+01  -1.5843938e+01  -1.3807748e+01  -1.2647601e+01  -1.1509505e+01  -9.9498316e+00  -8.8226392e+00  -8.6810713e+00  -9.5028655e+00  -1.0646551e+01  -1.1478829e+01  -1.1573196e+01  -1.0956954e+01  -1.0109934e+01  -9.4995203e+00  -9.2765052e+00  -9.2765052e+00  -9.2765052e+00  -9.2765052e+00             NaN             NaN             NaN             NaN             NaN             NaN             NaN             NaN\\n',\n",
       " '             NaN             NaN             NaN             NaN             NaN             NaN             NaN             NaN             NaN             NaN             NaN             NaN             NaN             NaN  -7.9603337e+00  -7.9603337e+00  -8.2824692e+00  -8.7868942e+00  -9.1303783e+00  -9.2741951e+00  -9.0413430e+00  -8.3423703e+00  -7.3990305e+00  -6.7291459e+00  -6.3488130e+00  -6.0008089e+00  -5.5000172e+00  -5.1246223e+00  -7.6850664e+00  -1.5253967e+01  -2.5414749e+01  -3.2568226e+01  -3.3841108e+01  -3.0663231e+01  -2.5943336e+01  -2.2667473e+01  -2.1137657e+01  -2.0382530e+01  -1.9376855e+01  -1.8584813e+01  -1.8552663e+01  -1.9323954e+01  -1.9959822e+01  -2.0579379e+01  -2.0190666e+01  -1.8518055e+01  -1.6397953e+01  -1.4624804e+01  -1.3497716e+01  -1.2168116e+01  -1.0318032e+01  -8.9946683e+00  -8.7442330e+00  -9.4784309e+00  -1.0496737e+01  -1.1246849e+01  -1.1336692e+01  -1.0798280e+01  -1.0086940e+01  -9.5631874e+00  -9.3765922e+00  -9.4002352e+00  -9.5566734e+00  -1.0066027e+01             NaN             NaN             NaN             NaN             NaN             NaN             NaN             NaN\\n',\n",
       " '             NaN             NaN             NaN             NaN             NaN             NaN             NaN             NaN             NaN             NaN             NaN             NaN             NaN             NaN             NaN             NaN  -8.4566742e+00  -8.9700451e+00  -9.2088905e+00  -9.3146312e+00  -8.8976869e+00  -7.9561368e+00  -6.7480833e+00  -5.9422597e+00  -5.5974460e+00  -5.4537155e+00  -5.2326004e+00  -4.9783784e+00  -7.8810037e+00  -1.6733974e+01  -2.7445922e+01  -3.4498138e+01  -3.5629066e+01  -3.1489956e+01  -2.6168945e+01  -2.2254179e+01  -2.0026408e+01  -1.8611798e+01  -1.6354714e+01  -1.4686686e+01  -1.4630416e+01  -1.5626908e+01  -1.7216797e+01  -1.8148742e+01  -1.8530511e+01  -1.7444831e+01  -1.6097654e+01  -1.5291069e+01  -1.4274838e+01  -1.2761763e+01  -1.0755052e+01  -9.2867547e+00  -8.9161965e+00  -9.5786787e+00  -1.0436572e+01  -1.1064725e+01  -1.1144336e+01  -1.0747735e+01  -1.0191754e+01  -9.7531807e+00  -9.6451426e+00  -9.6551375e+00  -9.7654017e+00  -1.0170430e+01             NaN             NaN             NaN             NaN             NaN             NaN             NaN             NaN\\n',\n",
       " '             NaN             NaN             NaN             NaN             NaN             NaN             NaN             NaN             NaN             NaN             NaN             NaN             NaN             NaN             NaN             NaN             NaN             NaN             NaN             NaN             NaN  -7.4933426e+00  -6.1764323e+00  -5.3663988e+00  -5.0758291e+00  -5.0583682e+00  -4.9444546e+00  -4.9750917e+00  -8.8890305e+00  -1.8719029e+01  -2.9688726e+01  -3.6050372e+01  -3.6378986e+01  -3.2006208e+01  -2.5985939e+01  -2.1643991e+01  -1.9159192e+01  -1.6867996e+01  -1.4213968e+01  -1.2097113e+01  -1.1666661e+01  -1.2754657e+01  -1.3974955e+01  -1.5297363e+01  -1.5732236e+01  -1.5673824e+01  -1.5461064e+01  -1.5356385e+01  -1.4738815e+01  -1.3242093e+01  -1.1199296e+01  -9.7079020e+00  -9.2969905e+00  -9.7572902e+00  -1.0467578e+01  -1.0958996e+01  -1.1048609e+01  -1.0780962e+01  -1.0385772e+01  -1.0138207e+01  -1.0051285e+01  -1.0051006e+01  -1.0099788e+01  -1.0321664e+01             NaN             NaN             NaN             NaN             NaN             NaN             NaN             NaN\\n',\n",
       " '             NaN             NaN             NaN             NaN             NaN             NaN             NaN             NaN             NaN             NaN             NaN             NaN             NaN             NaN             NaN             NaN             NaN             NaN             NaN             NaN             NaN             NaN             NaN  -5.1014611e+00  -4.8874938e+00  -4.9033775e+00  -4.9350831e+00  -4.9705324e+00  -1.0293595e+01  -2.1692070e+01  -3.1871797e+01  -3.6990835e+01  -3.6682953e+01  -3.1963264e+01  -2.5487782e+01  -2.0809263e+01  -1.8234303e+01  -1.6126645e+01  -1.3209272e+01  -1.1082773e+01  -1.0433429e+01  -1.0911479e+01  -1.1574890e+01  -1.2058879e+01  -1.2520135e+01  -1.3328378e+01  -1.4437484e+01  -1.5230299e+01  -1.4954269e+01  -1.3521282e+01  -1.1559753e+01  -1.0143727e+01  -9.7206803e+00  -1.0081467e+01  -1.0584142e+01  -1.0950375e+01  -1.1038794e+01  -1.0900721e+01  -1.0711146e+01  -1.0573552e+01  -1.0524522e+01  -1.0518366e+01  -1.0495235e+01  -1.0494638e+01             NaN             NaN             NaN             NaN             NaN             NaN             NaN             NaN\\n',\n",
       " '             NaN             NaN             NaN             NaN             NaN             NaN             NaN             NaN             NaN             NaN             NaN             NaN             NaN             NaN             NaN             NaN             NaN             NaN             NaN             NaN             NaN             NaN             NaN             NaN             NaN             NaN  -4.9235416e+00  -4.9632259e+00  -1.2611693e+01  -2.5380748e+01  -3.3934897e+01  -3.7518550e+01  -3.6519443e+01  -3.1444072e+01  -2.4637565e+01  -1.9829125e+01  -1.7344837e+01  -1.5521416e+01  -1.2772264e+01  -1.0855296e+01  -9.9897646e+00  -9.6253902e+00  -9.1536061e+00  -8.7576411e+00  -9.2129062e+00  -1.0870820e+01  -1.3049949e+01  -1.4637596e+01  -1.4715934e+01  -1.3472571e+01  -1.1824957e+01  -1.0550380e+01  -1.0144756e+01  -1.0387052e+01  -1.0830444e+01  -1.1114670e+01  -1.1202679e+01  -1.1150667e+01  -1.1034247e+01  -1.1015498e+01  -1.1008787e+01  -1.1001392e+01  -1.0929932e+01  -1.0719183e+01             NaN             NaN             NaN             NaN             NaN             NaN             NaN             NaN\\n',\n",
       " '             NaN             NaN             NaN             NaN             NaN             NaN             NaN             NaN             NaN             NaN             NaN             NaN             NaN             NaN             NaN             NaN             NaN             NaN             NaN             NaN             NaN             NaN             NaN             NaN             NaN             NaN             NaN             NaN  -1.6816099e+01  -2.9849415e+01  -3.5866508e+01  -3.8499101e+01  -3.6444393e+01  -3.0578955e+01  -2.3534896e+01  -1.8875636e+01  -1.6645791e+01  -1.4714494e+01  -1.2229198e+01  -1.0261750e+01  -9.2147215e+00  -8.3747184e+00  -6.9909873e+00  -5.9735820e+00  -6.3899587e+00  -8.5564456e+00  -1.1505369e+01  -1.3510932e+01  -1.4068418e+01  -1.3043669e+01  -1.1748424e+01  -1.0857194e+01  -1.0494950e+01  -1.0819552e+01  -1.1200375e+01  -1.1520176e+01  -1.1596332e+01  -1.1524769e+01  -1.1467222e+01  -1.1386446e+01  -1.1410557e+01  -1.1403685e+01  -1.1307127e+01  -1.0949785e+01             NaN             NaN             NaN             NaN             NaN             NaN             NaN             NaN\\n',\n",
       " '             NaN             NaN             NaN             NaN             NaN             NaN             NaN             NaN             NaN             NaN             NaN             NaN             NaN             NaN             NaN             NaN             NaN             NaN             NaN             NaN             NaN             NaN             NaN             NaN             NaN             NaN             NaN             NaN             NaN  -3.5183841e+01  -3.8499101e+01  -3.8499101e+01  -3.5731451e+01  -2.9378496e+01  -2.2203545e+01  -1.8040587e+01  -1.5937635e+01  -1.4132319e+01  -1.1503331e+01  -9.7726736e+00  -8.5983790e+00  -7.1114221e+00  -5.4258885e+00  -4.0615005e+00  -4.4299106e+00  -6.7655069e+00  -9.8205176e+00  -1.2226221e+01  -1.2860478e+01  -1.2326247e+01  -1.1495390e+01  -1.0932270e+01  -1.0836769e+01  -1.1179444e+01  -1.1699735e+01  -1.2016938e+01  -1.2104722e+01  -1.2020301e+01  -1.1833708e+01  -1.1723783e+01  -1.1684812e+01  -1.1680992e+01  -1.1781847e+01  -1.1210246e+01             NaN             NaN             NaN             NaN             NaN             NaN             NaN             NaN\\n',\n",
       " '             NaN             NaN             NaN             NaN             NaN             NaN             NaN             NaN             NaN             NaN             NaN             NaN             NaN             NaN             NaN             NaN             NaN             NaN             NaN             NaN             NaN             NaN             NaN             NaN             NaN             NaN             NaN             NaN             NaN             NaN  -3.8499101e+01  -3.8499101e+01  -3.4741872e+01  -2.7420269e+01  -2.0822182e+01  -1.7480189e+01  -1.5689699e+01  -1.3762987e+01  -1.1099664e+01  -9.1609717e+00  -7.9399935e+00  -6.5894094e+00  -4.7126001e+00  -3.3415647e+00  -3.6400111e+00  -5.7882398e+00  -8.7319778e+00  -1.0833468e+01  -1.1503113e+01  -1.1317055e+01  -1.1062032e+01  -1.0877685e+01  -1.0978698e+01  -1.1452747e+01  -1.2112341e+01  -1.2592258e+01  -1.2686321e+01  -1.2443699e+01  -1.2110115e+01  -1.1867674e+01  -1.1781847e+01  -1.1781847e+01  -1.1781847e+01  -1.1781847e+01             NaN             NaN             NaN             NaN             NaN             NaN             NaN             NaN\\n',\n",
       " '             NaN             NaN             NaN             NaN             NaN             NaN             NaN             NaN             NaN             NaN             NaN             NaN             NaN             NaN             NaN             NaN             NaN             NaN             NaN             NaN             NaN             NaN             NaN             NaN             NaN             NaN  -1.5170765e+01  -1.6143010e+01             NaN             NaN             NaN  -3.8499101e+01  -3.3132955e+01  -2.4987082e+01  -1.9449482e+01  -1.7109344e+01  -1.5595521e+01  -1.3449208e+01  -1.0548384e+01  -8.4834911e+00  -7.3001184e+00  -6.1504720e+00  -4.5163903e+00  -3.2949577e+00  -3.5273012e+00  -5.3398025e+00  -7.7671259e+00  -9.4613346e+00  -1.0119993e+01  -1.0298049e+01  -1.0547600e+01  -1.0732085e+01  -1.1044535e+01  -1.1690174e+01  -1.2568409e+01  -1.3193149e+01  -1.3287102e+01  -1.2893802e+01  -1.2255838e+01  -1.1828390e+01  -1.1677159e+01  -1.1679101e+01  -1.1781847e+01  -1.1781847e+01             NaN             NaN             NaN             NaN             NaN             NaN             NaN             NaN\\n',\n",
       " '             NaN             NaN             NaN             NaN             NaN             NaN             NaN             NaN             NaN             NaN             NaN             NaN             NaN             NaN             NaN             NaN             NaN             NaN             NaN             NaN             NaN             NaN             NaN             NaN             NaN             NaN  -1.7660751e+01             NaN             NaN             NaN             NaN             NaN  -3.0272312e+01  -2.2057071e+01  -1.8168953e+01             NaN             NaN             NaN  -9.9114869e+00  -7.8585559e+00  -6.7936157e+00  -5.8556926e+00  -4.4296760e+00  -3.1811026e+00  -3.2871663e+00  -5.0677258e+00  -7.0571545e+00  -8.3556858e+00  -8.9554946e+00  -9.3984068e+00  -1.0061821e+01  -1.0507547e+01  -1.1127064e+01  -1.1957871e+01  -1.3012228e+01  -1.3713525e+01  -1.3800229e+01  -1.3110484e+01  -1.2244303e+01  -1.1622114e+01  -1.1392905e+01  -1.1397110e+01  -1.1427715e+01  -1.1781847e+01             NaN             NaN             NaN             NaN             NaN             NaN             NaN             NaN\\n',\n",
       " '             NaN             NaN             NaN             NaN             NaN             NaN             NaN             NaN             NaN             NaN             NaN             NaN             NaN             NaN             NaN             NaN             NaN             NaN             NaN             NaN             NaN             NaN             NaN             NaN             NaN  -1.8824323e+01  -1.9307703e+01  -1.9286117e+01             NaN             NaN             NaN             NaN             NaN  -1.8639283e+01  -1.6421287e+01  -1.6421287e+01  -1.5212678e+01  -1.2393880e+01  -9.2189308e+00  -7.3499009e+00  -6.4717228e+00  -5.7325626e+00  -4.3777514e+00  -3.2913112e+00  -3.4334781e+00  -4.8287157e+00  -6.6622149e+00  -7.6288235e+00  -8.1272930e+00  -8.6783652e+00  -9.5032908e+00  -1.0405659e+01  -1.1238098e+01  -1.2287281e+01  -1.3417666e+01  -1.4100536e+01  -1.4038983e+01  -1.3213733e+01  -1.2092964e+01  -1.1257241e+01  -1.0965651e+01  -1.0971997e+01  -1.1020811e+01  -1.1155457e+01             NaN             NaN             NaN             NaN             NaN             NaN             NaN             NaN\\n',\n",
       " '             NaN             NaN             NaN             NaN             NaN             NaN             NaN             NaN             NaN             NaN             NaN             NaN             NaN             NaN             NaN             NaN             NaN             NaN             NaN             NaN             NaN             NaN             NaN             NaN             NaN             NaN             NaN             NaN             NaN  -1.9272779e+01  -1.9272779e+01             NaN             NaN             NaN             NaN             NaN             NaN             NaN             NaN             NaN  -6.3916730e+00  -5.8321247e+00  -4.7090847e+00  -3.4488549e+00  -3.6419334e+00  -5.2559882e+00  -6.6975476e+00  -7.4161903e+00  -7.7850623e+00  -8.2697834e+00  -9.2186884e+00  -1.0261002e+01  -1.1396432e+01  -1.2614094e+01  -1.3723214e+01  -1.4285777e+01  -1.4115032e+01  -1.3132802e+01  -1.1784504e+01  -1.0806192e+01  -1.0461443e+01  -1.0476341e+01  -1.0550041e+01  -1.0779103e+01             NaN             NaN             NaN             NaN             NaN             NaN             NaN             NaN\\n',\n",
       " '             NaN             NaN             NaN             NaN             NaN             NaN             NaN             NaN             NaN             NaN             NaN             NaN             NaN             NaN             NaN             NaN             NaN             NaN             NaN             NaN             NaN             NaN  -1.8501139e+01  -1.8861828e+01  -1.9005950e+01  -1.9060904e+01  -1.9296550e+01             NaN             NaN  -1.9272779e+01  -1.9635121e+01             NaN             NaN             NaN             NaN             NaN             NaN             NaN             NaN             NaN             NaN             NaN             NaN  -3.6594999e+00  -3.9706358e+00  -5.7691203e+00  -6.9829931e+00  -7.4893056e+00  -7.7313684e+00  -8.0743158e+00  -8.8763021e+00  -1.0034507e+01  -1.1646498e+01             NaN             NaN             NaN             NaN  -1.2900504e+01  -1.1412885e+01  -1.0336627e+01  -9.9637386e+00  -9.9852464e+00  -1.0084692e+01             NaN             NaN             NaN             NaN             NaN             NaN             NaN             NaN             NaN\\n',\n",
       " '             NaN             NaN             NaN             NaN             NaN             NaN             NaN             NaN             NaN             NaN             NaN             NaN             NaN             NaN             NaN             NaN             NaN             NaN             NaN             NaN  -1.7323019e+01  -1.7459273e+01  -1.7760634e+01  -1.7958001e+01  -1.8122955e+01  -1.8395436e+01  -1.8811721e+01             NaN             NaN             NaN  -2.0104889e+01             NaN             NaN             NaN             NaN             NaN             NaN             NaN             NaN             NaN             NaN             NaN             NaN             NaN             NaN             NaN             NaN             NaN             NaN             NaN             NaN             NaN             NaN             NaN             NaN             NaN             NaN             NaN             NaN  -9.8970062e+00  -9.5345236e+00  -9.5637929e+00             NaN             NaN             NaN             NaN             NaN             NaN             NaN             NaN             NaN             NaN\\n',\n",
       " '             NaN             NaN             NaN             NaN             NaN             NaN             NaN             NaN             NaN             NaN             NaN             NaN             NaN             NaN             NaN             NaN             NaN             NaN             NaN  -1.6896114e+01  -1.7067969e+01  -1.6946219e+01  -1.6783539e+01  -1.6669017e+01  -1.6844735e+01  -1.7469762e+01  -1.8362281e+01  -1.9027913e+01  -1.9379019e+01  -1.9767238e+01  -2.0678857e+01             NaN             NaN             NaN             NaN             NaN             NaN             NaN             NaN             NaN             NaN             NaN             NaN             NaN             NaN             NaN             NaN             NaN             NaN             NaN             NaN             NaN             NaN             NaN             NaN  -1.2830382e+01  -1.2523938e+01  -1.1645007e+01  -1.0433115e+01  -9.5580346e+00  -9.2553787e+00             NaN             NaN             NaN             NaN             NaN             NaN             NaN             NaN             NaN             NaN             NaN\\n',\n",
       " '             NaN             NaN             NaN             NaN             NaN             NaN             NaN             NaN             NaN             NaN             NaN             NaN             NaN             NaN             NaN             NaN             NaN  -1.3507376e+01  -1.5684546e+01  -1.6778366e+01  -1.6914541e+01  -1.6393320e+01  -1.5673465e+01  -1.5145664e+01  -1.5306960e+01  -1.6354364e+01  -1.7819235e+01  -1.8886033e+01  -1.9434316e+01  -1.9985106e+01  -2.1071535e+01             NaN             NaN             NaN             NaN             NaN             NaN             NaN             NaN             NaN             NaN             NaN             NaN             NaN             NaN             NaN             NaN             NaN             NaN             NaN             NaN             NaN             NaN  -1.1803439e+01  -1.1803444e+01  -1.1803449e+01             NaN             NaN  -1.0023742e+01  -9.3749505e+00             NaN             NaN             NaN             NaN             NaN             NaN             NaN             NaN             NaN             NaN             NaN             NaN\\n',\n",
       " '             NaN             NaN             NaN             NaN             NaN             NaN             NaN             NaN             NaN  -1.4002956e+01  -1.4002956e+01  -1.4002956e+01  -1.1382733e+01  -1.0323246e+01             NaN             NaN             NaN             NaN  -1.5050367e+01  -1.6394801e+01  -1.6504951e+01  -1.5647904e+01  -1.4528486e+01  -1.3628464e+01  -1.3772010e+01  -1.5189525e+01  -1.6956378e+01  -1.8313828e+01  -1.9052318e+01  -1.9836247e+01  -2.1386349e+01  -2.2420407e+01  -2.2831715e+01             NaN             NaN             NaN             NaN             NaN             NaN             NaN             NaN             NaN             NaN             NaN             NaN             NaN             NaN             NaN             NaN             NaN             NaN  -1.1374347e+01  -1.1852770e+01  -1.1071018e+01  -1.0801796e+01  -1.0801802e+01  -1.0663433e+01  -1.0265185e+01  -9.6567446e+00  -9.2437131e+00  -9.0898441e+00  -9.1397342e+00  -9.1397342e+00  -8.9421745e+00             NaN             NaN             NaN             NaN             NaN             NaN             NaN             NaN\\n',\n",
       " '             NaN             NaN             NaN             NaN             NaN             NaN             NaN             NaN             NaN             NaN             NaN             NaN  -1.2501065e+01  -1.0863504e+01  -1.0112665e+01  -9.7701108e+00  -1.0454979e+01  -1.2126651e+01  -1.4225972e+01  -1.5608925e+01  -1.5638899e+01  -1.4671232e+01  -1.3269581e+01  -1.2283737e+01  -1.2397907e+01  -1.3700054e+01  -1.5610565e+01  -1.6968269e+01  -1.7899005e+01  -1.9091917e+01  -2.0884592e+01  -2.2527092e+01  -2.2831715e+01  -2.3366131e+01             NaN             NaN             NaN             NaN             NaN             NaN             NaN             NaN             NaN             NaN             NaN             NaN             NaN             NaN             NaN  -9.9461300e+00  -1.2204187e+01  -1.4451802e+01  -1.2561198e+01  -1.0982718e+01  -1.0247782e+01  -9.9327034e+00  -9.8736325e+00  -9.6039196e+00  -9.2744118e+00  -8.9614346e+00  -8.9567674e+00  -8.9745630e+00  -8.9452404e+00  -8.8392694e+00             NaN             NaN             NaN             NaN             NaN             NaN             NaN             NaN\\n',\n",
       " '             NaN             NaN             NaN             NaN             NaN             NaN             NaN             NaN             NaN             NaN             NaN             NaN             NaN  -1.1438187e+01  -1.0352600e+01  -9.8947746e+00  -1.0256458e+01  -1.1545815e+01  -1.3278843e+01  -1.4494858e+01  -1.4538684e+01  -1.3515196e+01  -1.2259965e+01  -1.1292517e+01  -1.1311456e+01  -1.2438428e+01  -1.3944262e+01  -1.5147575e+01  -1.6181250e+01  -1.7926014e+01  -2.0376978e+01  -2.2185795e+01  -2.3043692e+01  -2.3757748e+01  -2.5436615e+01  -2.7642938e+01             NaN             NaN             NaN             NaN             NaN             NaN             NaN             NaN             NaN             NaN             NaN  -7.8389794e+00  -1.0682596e+01  -1.3074628e+01  -1.4451802e+01  -1.4451802e+01  -1.3230177e+01  -1.1256226e+01  -1.0054634e+01  -9.5214555e+00  -9.3128166e+00  -9.1557885e+00  -8.8670506e+00  -8.7742187e+00  -8.7599223e+00  -8.7941742e+00  -8.8028983e+00  -8.7496183e+00             NaN             NaN             NaN             NaN             NaN             NaN             NaN             NaN\\n',\n",
       " '             NaN             NaN             NaN             NaN             NaN             NaN             NaN             NaN             NaN             NaN             NaN  -1.4002956e+01  -1.3331424e+01  -1.1899916e+01  -1.0611436e+01  -9.9607590e+00  -1.0117201e+01  -1.1050442e+01  -1.2332139e+01  -1.3250792e+01  -1.3303718e+01  -1.2579982e+01  -1.1580309e+01  -1.0853220e+01  -1.0801546e+01  -1.1459902e+01  -1.2380740e+01  -1.3050043e+01  -1.4116103e+01  -1.6463711e+01  -1.9687232e+01  -2.2012249e+01  -2.3155754e+01  -2.4168610e+01  -2.6157687e+01  -2.8349136e+01             NaN             NaN             NaN             NaN             NaN             NaN             NaN             NaN             NaN  -8.1274758e+00  -8.1274758e+00  -8.1274758e+00  -1.4451802e+01  -1.4451802e+01  -1.4451802e+01  -1.4451802e+01  -1.3596009e+01  -1.1832959e+01  -1.0227075e+01  -9.4125482e+00  -9.0994335e+00  -8.9307013e+00  -8.7031072e+00  -8.5605138e+00  -8.5337458e+00  -8.5860021e+00  -8.6360350e+00  -8.6475431e+00             NaN             NaN             NaN             NaN             NaN             NaN             NaN             NaN\\n',\n",
       " '             NaN             NaN             NaN             NaN             NaN             NaN             NaN             NaN             NaN             NaN  -1.4002956e+01  -1.4002956e+01  -1.3513192e+01  -1.2279634e+01  -1.0881231e+01  -1.0037544e+01  -1.0003421e+01  -1.0621196e+01  -1.1450502e+01  -1.2031348e+01  -1.2088642e+01  -1.1696330e+01  -1.1143250e+01  -1.0732289e+01  -1.0608496e+01  -1.0716802e+01  -1.0864693e+01  -1.0969622e+01  -1.1992844e+01  -1.4836215e+01  -1.8830832e+01  -2.1778945e+01  -2.3287748e+01  -2.4597554e+01  -2.6751747e+01  -2.8644948e+01  -2.9545179e+01             NaN             NaN             NaN             NaN  -2.3778596e+01  -1.7156428e+01  -1.0681876e+01  -8.1274758e+00  -8.1274758e+00  -8.0058469e+00  -7.6887535e+00  -1.1792385e+01  -1.3692084e+01  -1.4451802e+01  -1.4451802e+01  -1.3825673e+01  -1.2307031e+01  -1.0542123e+01  -9.5199808e+00  -9.0941904e+00  -8.8586655e+00  -8.5319382e+00  -8.3475909e+00  -8.3029735e+00  -8.3697097e+00  -8.4537813e+00  -8.5289890e+00             NaN             NaN             NaN             NaN             NaN             NaN             NaN             NaN\\n',\n",
       " '             NaN             NaN             NaN             NaN             NaN             NaN             NaN             NaN             NaN             NaN  -1.4002956e+01  -1.4002956e+01  -1.3637264e+01  -1.2601771e+01  -1.1172530e+01  -1.0135249e+01  -9.7959366e+00  -1.0259766e+01  -1.0698053e+01  -1.0986301e+01  -1.1045921e+01  -1.0934441e+01  -1.0763615e+01  -1.0521342e+01  -1.0293375e+01  -1.0029514e+01  -9.5285715e+00  -9.1966767e+00  -1.0111952e+01  -1.3189632e+01  -1.7812163e+01  -2.1503201e+01  -2.3447483e+01  -2.5050956e+01  -2.7254790e+01  -2.8850422e+01  -2.9522868e+01  -2.8237469e+01  -2.7141389e+01  -2.6411976e+01  -2.4811888e+01  -2.0834514e+01  -1.4783206e+01  -1.0031814e+01  -8.1274758e+00  -8.0355585e+00  -7.8261366e+00  -7.3797524e+00  -9.7899321e+00  -1.2557912e+01  -1.3862284e+01  -1.4451802e+01  -1.3984650e+01  -1.2543064e+01  -1.0798443e+01  -9.6388572e+00  -9.1206049e+00  -8.8219051e+00  -8.4264653e+00  -8.1663013e+00  -8.1147512e+00  -8.1918355e+00  -8.2978481e+00  -8.4129533e+00             NaN             NaN             NaN             NaN             NaN             NaN             NaN             NaN\\n',\n",
       " '             NaN             NaN             NaN             NaN             NaN             NaN             NaN             NaN             NaN             NaN  -1.4002956e+01  -1.4002956e+01  -1.3734522e+01  -1.2892404e+01  -1.1496439e+01  -1.0261960e+01  -9.8047792e+00  -9.8871095e+00  -1.0191323e+01  -1.0298579e+01  -1.0348865e+01  -1.0393631e+01  -1.0357520e+01  -1.0504675e+01  -1.0196942e+01  -9.2544841e+00  -8.4981385e+00  -7.9545292e+00  -8.7016526e+00  -1.1631887e+01  -1.6528162e+01  -2.1037908e+01  -2.3661015e+01  -2.5567356e+01  -2.7715586e+01  -2.9011025e+01  -2.8715156e+01  -2.6786525e+01  -2.4178855e+01  -2.2322079e+01  -2.0501470e+01  -1.7294404e+01  -1.2737494e+01  -9.3325499e+00  -8.0921744e+00  -7.9658696e+00  -7.6665587e+00  -7.2319594e+00  -8.7908111e+00  -1.1538509e+01  -1.3414563e+01  -1.4210286e+01  -1.3981815e+01  -1.2712632e+01  -1.0985552e+01  -9.7565310e+00  -9.1778027e+00  -8.8215574e+00  -8.3673044e+00  -8.0289305e+00  -7.9740084e+00  -8.0560148e+00  -8.1687668e+00  -8.2956691e+00             NaN             NaN             NaN             NaN             NaN             NaN             NaN             NaN\\n',\n",
       " '             NaN             NaN             NaN             NaN             NaN             NaN             NaN             NaN  -1.4002956e+01             NaN             NaN             NaN  -1.3812117e+01  -1.3162266e+01  -1.1877791e+01  -1.0443802e+01  -9.8172677e+00  -9.9125074e+00  -9.9978777e+00  -1.0040698e+01  -1.0079043e+01  -1.0157278e+01  -1.0311021e+01  -1.0481320e+01  -1.0058498e+01  -8.9656098e+00  -7.9683329e+00  -7.4630583e+00  -8.0149575e+00  -1.0417068e+01  -1.5155204e+01  -2.0387178e+01  -2.3957872e+01  -2.6155159e+01  -2.8135548e+01  -2.9138928e+01  -2.8263825e+01  -2.5121390e+01  -2.0777069e+01  -1.7614485e+01  -1.5690039e+01  -1.3678225e+01  -1.0882750e+01  -8.8408008e+00  -8.0737027e+00  -7.8950451e+00  -7.5419274e+00  -7.1546792e+00  -8.2574095e+00  -1.0734524e+01  -1.2959036e+01  -1.4084287e+01  -1.4005773e+01  -1.2785674e+01  -1.1087868e+01  -9.8524666e+00  -9.2534350e+00  -8.8650678e+00  -8.3422955e+00  -7.9774307e+00  -7.8007348e+00  -7.8007348e+00  -7.8007348e+00  -7.8007348e+00             NaN             NaN             NaN             NaN             NaN             NaN             NaN             NaN\\n',\n",
       " '             NaN             NaN             NaN             NaN             NaN             NaN             NaN             NaN  -1.4002956e+01             NaN             NaN  -1.4002956e+01  -1.3878211e+01  -1.3422294e+01  -1.2337326e+01  -1.0729701e+01  -9.8373326e+00  -9.9434247e+00  -1.0418089e+01  -1.0493367e+01  -1.0520065e+01  -1.0528221e+01  -1.0254733e+01  -1.0444097e+01  -9.8436925e+00             NaN             NaN             NaN             NaN             NaN             NaN             NaN             NaN  -2.6884078e+01  -2.8546973e+01  -2.9250143e+01  -2.7715170e+01  -2.3187886e+01  -1.7069095e+01  -1.2713562e+01  -1.0818503e+01  -1.0121369e+01  -9.1304300e+00  -8.3896901e+00  -8.0514540e+00  -7.8195532e+00  -7.4375769e+00  -7.1053371e+00  -7.9127071e+00  -1.0055805e+01  -1.2511963e+01  -1.3927989e+01  -1.3990715e+01  -1.2799277e+01  -1.1104305e+01  -9.9180857e+00  -9.3405330e+00  -8.9397251e+00  -8.3922170e+00  -8.0413462e+00  -7.8536417e+00  -7.8769706e+00  -7.9278941e+00  -8.0511235e+00             NaN             NaN             NaN             NaN             NaN             NaN             NaN             NaN\\n',\n",
       " '             NaN             NaN             NaN             NaN             NaN             NaN             NaN             NaN  -1.4002956e+01  -1.4002956e+01  -1.4002956e+01  -1.4002956e+01  -1.4002956e+01             NaN             NaN             NaN  -9.8743719e+00  -1.1345812e+01  -1.1599763e+01  -1.1733112e+01  -1.1766773e+01  -1.1714439e+01             NaN             NaN             NaN             NaN             NaN             NaN             NaN             NaN             NaN             NaN             NaN             NaN             NaN  -2.9457005e+01  -2.7004110e+01  -2.1063241e+01  -1.3510044e+01  -8.4788564e+00  -6.7500042e+00  -7.0787542e+00  -7.5784977e+00  -7.6478400e+00  -8.0247172e+00  -7.7405222e+00  -7.3505060e+00  -7.0716614e+00  -7.6755721e+00  -9.7216963e+00  -1.2152604e+01  -1.3758201e+01  -1.3996845e+01  -1.2777081e+01  -1.1166274e+01  -9.9415151e+00  -9.4237552e+00  -9.0264403e+00  -8.5072686e+00  -8.1503227e+00  -7.9560220e+00  -7.9761242e+00  -8.0238551e+00             NaN             NaN             NaN             NaN             NaN             NaN             NaN             NaN             NaN\\n',\n",
       " '             NaN             NaN             NaN             NaN             NaN             NaN             NaN             NaN  -1.4002956e+01  -1.4002956e+01  -1.4002956e+01  -1.4002956e+01             NaN             NaN             NaN             NaN  -1.2264129e+01  -1.3383472e+01             NaN             NaN             NaN             NaN             NaN             NaN             NaN             NaN             NaN             NaN             NaN             NaN             NaN             NaN             NaN             NaN             NaN  -2.9457005e+01  -2.6150623e+01  -1.8448503e+01  -1.0286194e+01  -5.3219018e+00  -3.8864762e+00  -4.7535594e+00  -5.8402023e+00  -7.4797045e+00  -7.9888434e+00  -7.6504508e+00  -7.2709754e+00  -7.0454312e+00  -7.6804837e+00  -9.4798294e+00  -1.1889408e+01  -1.3591667e+01  -1.3857332e+01  -1.2768025e+01  -1.1164412e+01  -1.0029864e+01  -9.4780555e+00  -9.1186298e+00  -8.6244802e+00  -8.2977067e+00  -8.1085554e+00  -8.1173803e+00  -8.1478584e+00             NaN             NaN             NaN             NaN             NaN             NaN             NaN             NaN             NaN\\n',\n",
       " '']"
      ]
     },
     "execution_count": 2,
     "metadata": {},
     "output_type": "execute_result"
    }
   ],
   "source": [
    "file1a_ld_N = open(\"/data/keeling/a/mailes2/a/chen_data/textdir/figure1a_ld_N.txt\", \"r\")\n",
    "list1a_ld_N = []\n",
    "while True:\n",
    "    list1a_ld_N.append(file1a_ld_N.readline())\n",
    "    if not file1a_ld_N.readline():\n",
    "        break\n",
    "file1a_ld_N.close()\n",
    "list1a_ld_N"
   ]
  },
  {
   "cell_type": "code",
   "execution_count": 10,
   "id": "08cbcb8d",
   "metadata": {},
   "outputs": [
    {
     "data": {
      "text/plain": [
       "73"
      ]
     },
     "execution_count": 10,
     "metadata": {},
     "output_type": "execute_result"
    }
   ],
   "source": [
    "len(list1a_ld_N)"
   ]
  },
  {
   "cell_type": "code",
   "execution_count": 8,
   "id": "b47a8622",
   "metadata": {},
   "outputs": [],
   "source": [
    "list1a_ld_N_full = []\n",
    "for line in list1a_ld_N:\n",
    "    list_lon = line.split()\n",
    "    list1a_ld_N_full.append(list_lon)"
   ]
  },
  {
   "cell_type": "code",
   "execution_count": 9,
   "id": "51901c35",
   "metadata": {},
   "outputs": [
    {
     "data": {
      "text/plain": [
       "[]"
      ]
     },
     "execution_count": 9,
     "metadata": {},
     "output_type": "execute_result"
    }
   ],
   "source": [
    "list1a_ld_N_float = []\n",
    "for lon in list1a_ld_N_full:\n",
    "    lon_list = []\n",
    "    for num in lon:\n",
    "        num = float(num)\n",
    "        lon_list.append(num)\n",
    "    list1a_ld_N_float.append(lon_list)\n",
    "list1a_ld_N_float.pop()"
   ]
  },
  {
   "cell_type": "code",
   "execution_count": 10,
   "id": "8f1e308a",
   "metadata": {},
   "outputs": [
    {
     "data": {
      "text/plain": [
       "array([[nan, nan, nan, ..., nan, nan, nan],\n",
       "       [nan, nan, nan, ..., nan, nan, nan],\n",
       "       [nan, nan, nan, ..., nan, nan, nan],\n",
       "       ...,\n",
       "       [nan, nan, nan, ..., nan, nan, nan],\n",
       "       [nan, nan, nan, ..., nan, nan, nan],\n",
       "       [nan, nan, nan, ..., nan, nan, nan]])"
      ]
     },
     "execution_count": 10,
     "metadata": {},
     "output_type": "execute_result"
    }
   ],
   "source": [
    "array1a_ld_N = np.array(list1a_ld_N_float)\n",
    "array1a_ld_N"
   ]
  },
  {
   "cell_type": "code",
   "execution_count": 13,
   "id": "6e0a1612",
   "metadata": {},
   "outputs": [
    {
     "data": {
      "text/plain": [
       "(72, 72)"
      ]
     },
     "execution_count": 13,
     "metadata": {},
     "output_type": "execute_result"
    }
   ],
   "source": [
    "array1a_ld_N.shape"
   ]
  },
  {
   "cell_type": "code",
   "execution_count": 31,
   "id": "ddb75ab8",
   "metadata": {},
   "outputs": [],
   "source": [
    "dataarray_1a_ld_N = xr.DataArray(array1a_ld_N.transpose(), \n",
    "                                 coords={'lat': array_lat, 'lon': new_lon}, \n",
    "                                 dims=['lat','lon'])"
   ]
  },
  {
   "cell_type": "code",
   "execution_count": 42,
   "id": "50d30ee7",
   "metadata": {},
   "outputs": [
    {
     "data": {
      "text/plain": [
       "Text(0.5, 1.0, '1a_ld_N')"
      ]
     },
     "execution_count": 42,
     "metadata": {},
     "output_type": "execute_result"
    },
    {
     "data": {
      "image/png": "[encoded data removed]",
      "text/plain": [
       "<Figure size 720x576 with 2 Axes>"
      ]
     },
     "metadata": {
      "needs_background": "light"
     },
     "output_type": "display_data"
    }
   ],
   "source": [
    "fig = plt.figure(figsize=(10, 8))\n",
    "ax1 = plt.subplot(projection=ccrs.PlateCarree(central_longitude=180))\n",
    "dataarray_1a_ld_N.plot(ax=ax1, transform=ccrs.PlateCarree(), cbar_kwargs={'shrink': 0.7})\n",
    "plt.title('1a_ld_N')"
   ]
  },
  {
   "cell_type": "markdown",
   "id": "5757db69",
   "metadata": {},
   "source": [
    "# Load lon"
   ]
  },
  {
   "cell_type": "code",
   "execution_count": 5,
   "id": "1181d3a2",
   "metadata": {},
   "outputs": [
    {
     "data": {
      "text/plain": [
       "array([  0. ,   2.5,   5. ,   7.5,  10. ,  12.5,  15. ,  17.5,  20. ,\n",
       "        22.5,  25. ,  27.5,  30. ,  32.5,  35. ,  37.5,  40. ,  42.5,\n",
       "        45. ,  47.5,  50. ,  52.5,  55. ,  57.5,  60. ,  62.5,  65. ,\n",
       "        67.5,  70. ,  72.5,  75. ,  77.5,  80. ,  82.5,  85. ,  87.5,\n",
       "        90. ,  92.5,  95. ,  97.5, 100. , 102.5, 105. , 107.5, 110. ,\n",
       "       112.5, 115. , 117.5, 120. , 122.5, 125. , 127.5, 130. , 132.5,\n",
       "       135. , 137.5, 140. , 142.5, 145. , 147.5, 150. , 152.5, 155. ,\n",
       "       157.5, 160. , 162.5, 165. , 167.5, 170. , 172.5, 175. , 177.5,\n",
       "       180. , 182.5, 185. , 187.5, 190. , 192.5, 195. , 197.5, 200. ,\n",
       "       202.5, 205. , 207.5, 210. , 212.5, 215. , 217.5, 220. , 222.5,\n",
       "       225. , 227.5, 230. , 232.5, 235. , 237.5, 240. , 242.5, 245. ,\n",
       "       247.5, 250. , 252.5, 255. , 257.5, 260. , 262.5, 265. , 267.5,\n",
       "       270. , 272.5, 275. , 277.5, 280. , 282.5, 285. , 287.5, 290. ,\n",
       "       292.5, 295. , 297.5, 300. , 302.5, 305. , 307.5, 310. , 312.5,\n",
       "       315. , 317.5, 320. , 322.5, 325. , 327.5, 330. , 332.5, 335. ,\n",
       "       337.5, 340. , 342.5, 345. , 347.5, 350. , 352.5, 355. , 357.5])"
      ]
     },
     "execution_count": 5,
     "metadata": {},
     "output_type": "execute_result"
    }
   ],
   "source": [
    "file_lon = open(\"/data/keeling/a/mailes2/a/chen_data/textdir/lon.txt\", \"r\")\n",
    "list_lon = []\n",
    "while True:\n",
    "    list_lon.append(file_lon.readline())\n",
    "    if not file_lon.readline():\n",
    "        break\n",
    "file_lon.close()\n",
    "\n",
    "list_lon_full = list_lon[0].split()\n",
    "\n",
    "list_lon_float = []\n",
    "for num in list_lon_full:\n",
    "    num = float(num)\n",
    "    list_lon_float.append(num)\n",
    "\n",
    "array_lon = np.array(list_lon_float)\n",
    "array_lon"
   ]
  },
  {
   "cell_type": "code",
   "execution_count": 26,
   "id": "336c6ccd",
   "metadata": {},
   "outputs": [
    {
     "data": {
      "text/plain": [
       "144"
      ]
     },
     "execution_count": 26,
     "metadata": {},
     "output_type": "execute_result"
    }
   ],
   "source": [
    "len(array_lon)"
   ]
  },
  {
   "cell_type": "code",
   "execution_count": 6,
   "id": "e6ff746a",
   "metadata": {},
   "outputs": [],
   "source": [
    "new_lon = np.linspace(0,360,72)"
   ]
  },
  {
   "cell_type": "markdown",
   "id": "81afb398",
   "metadata": {},
   "source": [
    "# Load lat"
   ]
  },
  {
   "cell_type": "code",
   "execution_count": 7,
   "id": "5bb12c7d",
   "metadata": {},
   "outputs": [
    {
     "data": {
      "text/plain": [
       "array([ 88.75,  86.25,  83.75,  81.25,  78.75,  76.25,  73.75,  71.25,\n",
       "        68.75,  66.25,  63.75,  61.25,  58.75,  56.25,  53.75,  51.25,\n",
       "        48.75,  46.25,  43.75,  41.25,  38.75,  36.25,  33.75,  31.25,\n",
       "        28.75,  26.25,  23.75,  21.25,  18.75,  16.25,  13.75,  11.25,\n",
       "         8.75,   6.25,   3.75,   1.25,  -1.25,  -3.75,  -6.25,  -8.75,\n",
       "       -11.25, -13.75, -16.25, -18.75, -21.25, -23.75, -26.25, -28.75,\n",
       "       -31.25, -33.75, -36.25, -38.75, -41.25, -43.75, -46.25, -48.75,\n",
       "       -51.25, -53.75, -56.25, -58.75, -61.25, -63.75, -66.25, -68.75,\n",
       "       -71.25, -73.75, -76.25, -78.75, -81.25, -83.75, -86.25, -88.75])"
      ]
     },
     "execution_count": 7,
     "metadata": {},
     "output_type": "execute_result"
    }
   ],
   "source": [
    "file_lat = open(\"/data/keeling/a/mailes2/a/chen_data/textdir/lat.txt\", \"r\")\n",
    "list_lat = []\n",
    "while True:\n",
    "    list_lat.append(file_lat.readline())\n",
    "    if not file_lat.readline():\n",
    "        break\n",
    "file_lat.close()\n",
    "\n",
    "list_lat_full = list_lat[0].split()\n",
    "\n",
    "list_lat_float = []\n",
    "for num in list_lat_full:\n",
    "    num = float(num)\n",
    "    list_lat_float.append(num)\n",
    "\n",
    "array_lat = np.array(list_lat_float)\n",
    "array_lat"
   ]
  },
  {
   "cell_type": "code",
   "execution_count": 27,
   "id": "23e02aa2",
   "metadata": {},
   "outputs": [
    {
     "data": {
      "text/plain": [
       "72"
      ]
     },
     "execution_count": 27,
     "metadata": {},
     "output_type": "execute_result"
    }
   ],
   "source": [
    "len(array_lat)"
   ]
  },
  {
   "cell_type": "markdown",
   "id": "c9c4b5bd",
   "metadata": {},
   "source": [
    "# 1b ld Net TOA"
   ]
  },
  {
   "cell_type": "code",
   "execution_count": 9,
   "id": "209b0a01",
   "metadata": {},
   "outputs": [
    {
     "data": {
      "text/html": [
       "<div><svg style=\"position: absolute; width: 0; height: 0; overflow: hidden\">\n",
       "<defs>\n",
       "<symbol id=\"icon-database\" viewBox=\"0 0 32 32\">\n",
       "<path d=\"M16 0c-8.837 0-16 2.239-16 5v4c0 2.761 7.163 5 16 5s16-2.239 16-5v-4c0-2.761-7.163-5-16-5z\"></path>\n",
       "<path d=\"M16 17c-8.837 0-16-2.239-16-5v6c0 2.761 7.163 5 16 5s16-2.239 16-5v-6c0 2.761-7.163 5-16 5z\"></path>\n",
       "<path d=\"M16 26c-8.837 0-16-2.239-16-5v6c0 2.761 7.163 5 16 5s16-2.239 16-5v-6c0 2.761-7.163 5-16 5z\"></path>\n",
       "</symbol>\n",
       "<symbol id=\"icon-file-text2\" viewBox=\"0 0 32 32\">\n",
       "<path d=\"M28.681 7.159c-0.694-0.947-1.662-2.053-2.724-3.116s-2.169-2.030-3.116-2.724c-1.612-1.182-2.393-1.319-2.841-1.319h-15.5c-1.378 0-2.5 1.121-2.5 2.5v27c0 1.378 1.122 2.5 2.5 2.5h23c1.378 0 2.5-1.122 2.5-2.5v-19.5c0-0.448-0.137-1.23-1.319-2.841zM24.543 5.457c0.959 0.959 1.712 1.825 2.268 2.543h-4.811v-4.811c0.718 0.556 1.584 1.309 2.543 2.268zM28 29.5c0 0.271-0.229 0.5-0.5 0.5h-23c-0.271 0-0.5-0.229-0.5-0.5v-27c0-0.271 0.229-0.5 0.5-0.5 0 0 15.499-0 15.5 0v7c0 0.552 0.448 1 1 1h7v19.5z\"></path>\n",
       "<path d=\"M23 26h-14c-0.552 0-1-0.448-1-1s0.448-1 1-1h14c0.552 0 1 0.448 1 1s-0.448 1-1 1z\"></path>\n",
       "<path d=\"M23 22h-14c-0.552 0-1-0.448-1-1s0.448-1 1-1h14c0.552 0 1 0.448 1 1s-0.448 1-1 1z\"></path>\n",
       "<path d=\"M23 18h-14c-0.552 0-1-0.448-1-1s0.448-1 1-1h14c0.552 0 1 0.448 1 1s-0.448 1-1 1z\"></path>\n",
       "</symbol>\n",
       "</defs>\n",
       "</svg>\n",
       "<style>/* CSS stylesheet for displaying xarray objects in jupyterlab.\n",
       " *\n",
       " */\n",
       "\n",
       ":root {\n",
       "  --xr-font-color0: var(--jp-content-font-color0, rgba(0, 0, 0, 1));\n",
       "  --xr-font-color2: var(--jp-content-font-color2, rgba(0, 0, 0, 0.54));\n",
       "  --xr-font-color3: var(--jp-content-font-color3, rgba(0, 0, 0, 0.38));\n",
       "  --xr-border-color: var(--jp-border-color2, #e0e0e0);\n",
       "  --xr-disabled-color: var(--jp-layout-color3, #bdbdbd);\n",
       "  --xr-background-color: var(--jp-layout-color0, white);\n",
       "  --xr-background-color-row-even: var(--jp-layout-color1, white);\n",
       "  --xr-background-color-row-odd: var(--jp-layout-color2, #eeeeee);\n",
       "}\n",
       "\n",
       "html[theme=dark],\n",
       "body[data-theme=dark],\n",
       "body.vscode-dark {\n",
       "  --xr-font-color0: rgba(255, 255, 255, 1);\n",
       "  --xr-font-color2: rgba(255, 255, 255, 0.54);\n",
       "  --xr-font-color3: rgba(255, 255, 255, 0.38);\n",
       "  --xr-border-color: #1F1F1F;\n",
       "  --xr-disabled-color: #515151;\n",
       "  --xr-background-color: #111111;\n",
       "  --xr-background-color-row-even: #111111;\n",
       "  --xr-background-color-row-odd: #313131;\n",
       "}\n",
       "\n",
       ".xr-wrap {\n",
       "  display: block !important;\n",
       "  min-width: 300px;\n",
       "  max-width: 700px;\n",
       "}\n",
       "\n",
       ".xr-text-repr-fallback {\n",
       "  /* fallback to plain text repr when CSS is not injected (untrusted notebook) */\n",
       "  display: none;\n",
       "}\n",
       "\n",
       ".xr-header {\n",
       "  padding-top: 6px;\n",
       "  padding-bottom: 6px;\n",
       "  margin-bottom: 4px;\n",
       "  border-bottom: solid 1px var(--xr-border-color);\n",
       "}\n",
       "\n",
       ".xr-header > div,\n",
       ".xr-header > ul {\n",
       "  display: inline;\n",
       "  margin-top: 0;\n",
       "  margin-bottom: 0;\n",
       "}\n",
       "\n",
       ".xr-obj-type,\n",
       ".xr-array-name {\n",
       "  margin-left: 2px;\n",
       "  margin-right: 10px;\n",
       "}\n",
       "\n",
       ".xr-obj-type {\n",
       "  color: var(--xr-font-color2);\n",
       "}\n",
       "\n",
       ".xr-sections {\n",
       "  padding-left: 0 !important;\n",
       "  display: grid;\n",
       "  grid-template-columns: 150px auto auto 1fr 20px 20px;\n",
       "}\n",
       "\n",
       ".xr-section-item {\n",
       "  display: contents;\n",
       "}\n",
       "\n",
       ".xr-section-item input {\n",
       "  display: none;\n",
       "}\n",
       "\n",
       ".xr-section-item input + label {\n",
       "  color: var(--xr-disabled-color);\n",
       "}\n",
       "\n",
       ".xr-section-item input:enabled + label {\n",
       "  cursor: pointer;\n",
       "  color: var(--xr-font-color2);\n",
       "}\n",
       "\n",
       ".xr-section-item input:enabled + label:hover {\n",
       "  color: var(--xr-font-color0);\n",
       "}\n",
       "\n",
       ".xr-section-summary {\n",
       "  grid-column: 1;\n",
       "  color: var(--xr-font-color2);\n",
       "  font-weight: 500;\n",
       "}\n",
       "\n",
       ".xr-section-summary > span {\n",
       "  display: inline-block;\n",
       "  padding-left: 0.5em;\n",
       "}\n",
       "\n",
       ".xr-section-summary-in:disabled + label {\n",
       "  color: var(--xr-font-color2);\n",
       "}\n",
       "\n",
       ".xr-section-summary-in + label:before {\n",
       "  display: inline-block;\n",
       "  content: '►';\n",
       "  font-size: 11px;\n",
       "  width: 15px;\n",
       "  text-align: center;\n",
       "}\n",
       "\n",
       ".xr-section-summary-in:disabled + label:before {\n",
       "  color: var(--xr-disabled-color);\n",
       "}\n",
       "\n",
       ".xr-section-summary-in:checked + label:before {\n",
       "  content: '▼';\n",
       "}\n",
       "\n",
       ".xr-section-summary-in:checked + label > span {\n",
       "  display: none;\n",
       "}\n",
       "\n",
       ".xr-section-summary,\n",
       ".xr-section-inline-details {\n",
       "  padding-top: 4px;\n",
       "  padding-bottom: 4px;\n",
       "}\n",
       "\n",
       ".xr-section-inline-details {\n",
       "  grid-column: 2 / -1;\n",
       "}\n",
       "\n",
       ".xr-section-details {\n",
       "  display: none;\n",
       "  grid-column: 1 / -1;\n",
       "  margin-bottom: 5px;\n",
       "}\n",
       "\n",
       ".xr-section-summary-in:checked ~ .xr-section-details {\n",
       "  display: contents;\n",
       "}\n",
       "\n",
       ".xr-array-wrap {\n",
       "  grid-column: 1 / -1;\n",
       "  display: grid;\n",
       "  grid-template-columns: 20px auto;\n",
       "}\n",
       "\n",
       ".xr-array-wrap > label {\n",
       "  grid-column: 1;\n",
       "  vertical-align: top;\n",
       "}\n",
       "\n",
       ".xr-preview {\n",
       "  color: var(--xr-font-color3);\n",
       "}\n",
       "\n",
       ".xr-array-preview,\n",
       ".xr-array-data {\n",
       "  padding: 0 5px !important;\n",
       "  grid-column: 2;\n",
       "}\n",
       "\n",
       ".xr-array-data,\n",
       ".xr-array-in:checked ~ .xr-array-preview {\n",
       "  display: none;\n",
       "}\n",
       "\n",
       ".xr-array-in:checked ~ .xr-array-data,\n",
       ".xr-array-preview {\n",
       "  display: inline-block;\n",
       "}\n",
       "\n",
       ".xr-dim-list {\n",
       "  display: inline-block !important;\n",
       "  list-style: none;\n",
       "  padding: 0 !important;\n",
       "  margin: 0;\n",
       "}\n",
       "\n",
       ".xr-dim-list li {\n",
       "  display: inline-block;\n",
       "  padding: 0;\n",
       "  margin: 0;\n",
       "}\n",
       "\n",
       ".xr-dim-list:before {\n",
       "  content: '(';\n",
       "}\n",
       "\n",
       ".xr-dim-list:after {\n",
       "  content: ')';\n",
       "}\n",
       "\n",
       ".xr-dim-list li:not(:last-child):after {\n",
       "  content: ',';\n",
       "  padding-right: 5px;\n",
       "}\n",
       "\n",
       ".xr-has-index {\n",
       "  font-weight: bold;\n",
       "}\n",
       "\n",
       ".xr-var-list,\n",
       ".xr-var-item {\n",
       "  display: contents;\n",
       "}\n",
       "\n",
       ".xr-var-item > div,\n",
       ".xr-var-item label,\n",
       ".xr-var-item > .xr-var-name span {\n",
       "  background-color: var(--xr-background-color-row-even);\n",
       "  margin-bottom: 0;\n",
       "}\n",
       "\n",
       ".xr-var-item > .xr-var-name:hover span {\n",
       "  padding-right: 5px;\n",
       "}\n",
       "\n",
       ".xr-var-list > li:nth-child(odd) > div,\n",
       ".xr-var-list > li:nth-child(odd) > label,\n",
       ".xr-var-list > li:nth-child(odd) > .xr-var-name span {\n",
       "  background-color: var(--xr-background-color-row-odd);\n",
       "}\n",
       "\n",
       ".xr-var-name {\n",
       "  grid-column: 1;\n",
       "}\n",
       "\n",
       ".xr-var-dims {\n",
       "  grid-column: 2;\n",
       "}\n",
       "\n",
       ".xr-var-dtype {\n",
       "  grid-column: 3;\n",
       "  text-align: right;\n",
       "  color: var(--xr-font-color2);\n",
       "}\n",
       "\n",
       ".xr-var-preview {\n",
       "  grid-column: 4;\n",
       "}\n",
       "\n",
       ".xr-var-name,\n",
       ".xr-var-dims,\n",
       ".xr-var-dtype,\n",
       ".xr-preview,\n",
       ".xr-attrs dt {\n",
       "  white-space: nowrap;\n",
       "  overflow: hidden;\n",
       "  text-overflow: ellipsis;\n",
       "  padding-right: 10px;\n",
       "}\n",
       "\n",
       ".xr-var-name:hover,\n",
       ".xr-var-dims:hover,\n",
       ".xr-var-dtype:hover,\n",
       ".xr-attrs dt:hover {\n",
       "  overflow: visible;\n",
       "  width: auto;\n",
       "  z-index: 1;\n",
       "}\n",
       "\n",
       ".xr-var-attrs,\n",
       ".xr-var-data {\n",
       "  display: none;\n",
       "  background-color: var(--xr-background-color) !important;\n",
       "  padding-bottom: 5px !important;\n",
       "}\n",
       "\n",
       ".xr-var-attrs-in:checked ~ .xr-var-attrs,\n",
       ".xr-var-data-in:checked ~ .xr-var-data {\n",
       "  display: block;\n",
       "}\n",
       "\n",
       ".xr-var-data > table {\n",
       "  float: right;\n",
       "}\n",
       "\n",
       ".xr-var-name span,\n",
       ".xr-var-data,\n",
       ".xr-attrs {\n",
       "  padding-left: 25px !important;\n",
       "}\n",
       "\n",
       ".xr-attrs,\n",
       ".xr-var-attrs,\n",
       ".xr-var-data {\n",
       "  grid-column: 1 / -1;\n",
       "}\n",
       "\n",
       "dl.xr-attrs {\n",
       "  padding: 0;\n",
       "  margin: 0;\n",
       "  display: grid;\n",
       "  grid-template-columns: 125px auto;\n",
       "}\n",
       "\n",
       ".xr-attrs dt,\n",
       ".xr-attrs dd {\n",
       "  padding: 0;\n",
       "  margin: 0;\n",
       "  float: left;\n",
       "  padding-right: 10px;\n",
       "  width: auto;\n",
       "}\n",
       "\n",
       ".xr-attrs dt {\n",
       "  font-weight: normal;\n",
       "  grid-column: 1;\n",
       "}\n",
       "\n",
       ".xr-attrs dt:hover span {\n",
       "  display: inline-block;\n",
       "  background: var(--xr-background-color);\n",
       "  padding-right: 10px;\n",
       "}\n",
       "\n",
       ".xr-attrs dd {\n",
       "  grid-column: 2;\n",
       "  white-space: pre-wrap;\n",
       "  word-break: break-all;\n",
       "}\n",
       "\n",
       ".xr-icon-database,\n",
       ".xr-icon-file-text2 {\n",
       "  display: inline-block;\n",
       "  vertical-align: middle;\n",
       "  width: 1em;\n",
       "  height: 1.5em !important;\n",
       "  stroke-width: 0;\n",
       "  stroke: currentColor;\n",
       "  fill: currentColor;\n",
       "}\n",
       "</style><pre class='xr-text-repr-fallback'>&lt;xarray.DataArray (lat: 72, lon: 72)&gt;\n",
       "array([[nan, nan, nan, ..., nan, nan, nan],\n",
       "       [nan, nan, nan, ..., nan, nan, nan],\n",
       "       [nan, nan, nan, ..., nan, nan, nan],\n",
       "       ...,\n",
       "       [nan, nan, nan, ..., nan, nan, nan],\n",
       "       [nan, nan, nan, ..., nan, nan, nan],\n",
       "       [nan, nan, nan, ..., nan, nan, nan]])\n",
       "Coordinates:\n",
       "  * lat      (lat) float64 88.75 86.25 83.75 81.25 ... -83.75 -86.25 -88.75\n",
       "  * lon      (lon) float64 0.0 5.07 10.14 15.21 ... 344.8 349.9 354.9 360.0</pre><div class='xr-wrap' style='display:none'><div class='xr-header'><div class='xr-obj-type'>xarray.DataArray</div><div class='xr-array-name'></div><ul class='xr-dim-list'><li><span class='xr-has-index'>lat</span>: 72</li><li><span class='xr-has-index'>lon</span>: 72</li></ul></div><ul class='xr-sections'><li class='xr-section-item'><div class='xr-array-wrap'><input id='section-6242c82f-0d56-47a1-b3af-f22945218ddc' class='xr-array-in' type='checkbox' checked><label for='section-6242c82f-0d56-47a1-b3af-f22945218ddc' title='Show/hide data repr'><svg class='icon xr-icon-database'><use xlink:href='#icon-database'></use></svg></label><div class='xr-array-preview xr-preview'><span>nan nan nan nan nan nan nan nan ... nan nan nan nan nan nan nan nan</span></div><div class='xr-array-data'><pre>array([[nan, nan, nan, ..., nan, nan, nan],\n",
       "       [nan, nan, nan, ..., nan, nan, nan],\n",
       "       [nan, nan, nan, ..., nan, nan, nan],\n",
       "       ...,\n",
       "       [nan, nan, nan, ..., nan, nan, nan],\n",
       "       [nan, nan, nan, ..., nan, nan, nan],\n",
       "       [nan, nan, nan, ..., nan, nan, nan]])</pre></div></div></li><li class='xr-section-item'><input id='section-c544cdac-abac-42ae-ba95-d21f8416ee6f' class='xr-section-summary-in' type='checkbox'  checked><label for='section-c544cdac-abac-42ae-ba95-d21f8416ee6f' class='xr-section-summary' >Coordinates: <span>(2)</span></label><div class='xr-section-inline-details'></div><div class='xr-section-details'><ul class='xr-var-list'><li class='xr-var-item'><div class='xr-var-name'><span class='xr-has-index'>lat</span></div><div class='xr-var-dims'>(lat)</div><div class='xr-var-dtype'>float64</div><div class='xr-var-preview xr-preview'>88.75 86.25 83.75 ... -86.25 -88.75</div><input id='attrs-96cf2c3b-176f-4ecf-be19-612a97d3f880' class='xr-var-attrs-in' type='checkbox' disabled><label for='attrs-96cf2c3b-176f-4ecf-be19-612a97d3f880' title='Show/Hide attributes'><svg class='icon xr-icon-file-text2'><use xlink:href='#icon-file-text2'></use></svg></label><input id='data-1b2c3de0-aa35-4f45-a9e8-f72630393322' class='xr-var-data-in' type='checkbox'><label for='data-1b2c3de0-aa35-4f45-a9e8-f72630393322' title='Show/Hide data repr'><svg class='icon xr-icon-database'><use xlink:href='#icon-database'></use></svg></label><div class='xr-var-attrs'><dl class='xr-attrs'></dl></div><div class='xr-var-data'><pre>array([ 88.75,  86.25,  83.75,  81.25,  78.75,  76.25,  73.75,  71.25,  68.75,\n",
       "        66.25,  63.75,  61.25,  58.75,  56.25,  53.75,  51.25,  48.75,  46.25,\n",
       "        43.75,  41.25,  38.75,  36.25,  33.75,  31.25,  28.75,  26.25,  23.75,\n",
       "        21.25,  18.75,  16.25,  13.75,  11.25,   8.75,   6.25,   3.75,   1.25,\n",
       "        -1.25,  -3.75,  -6.25,  -8.75, -11.25, -13.75, -16.25, -18.75, -21.25,\n",
       "       -23.75, -26.25, -28.75, -31.25, -33.75, -36.25, -38.75, -41.25, -43.75,\n",
       "       -46.25, -48.75, -51.25, -53.75, -56.25, -58.75, -61.25, -63.75, -66.25,\n",
       "       -68.75, -71.25, -73.75, -76.25, -78.75, -81.25, -83.75, -86.25, -88.75])</pre></div></li><li class='xr-var-item'><div class='xr-var-name'><span class='xr-has-index'>lon</span></div><div class='xr-var-dims'>(lon)</div><div class='xr-var-dtype'>float64</div><div class='xr-var-preview xr-preview'>0.0 5.07 10.14 ... 354.9 360.0</div><input id='attrs-1bbd5a1f-17ea-4a3e-8474-501b7e64f1d4' class='xr-var-attrs-in' type='checkbox' disabled><label for='attrs-1bbd5a1f-17ea-4a3e-8474-501b7e64f1d4' title='Show/Hide attributes'><svg class='icon xr-icon-file-text2'><use xlink:href='#icon-file-text2'></use></svg></label><input id='data-09714c17-e203-407f-9c6c-e74e20c008e6' class='xr-var-data-in' type='checkbox'><label for='data-09714c17-e203-407f-9c6c-e74e20c008e6' title='Show/Hide data repr'><svg class='icon xr-icon-database'><use xlink:href='#icon-database'></use></svg></label><div class='xr-var-attrs'><dl class='xr-attrs'></dl></div><div class='xr-var-data'><pre>array([  0.      ,   5.070423,  10.140845,  15.211268,  20.28169 ,  25.352113,\n",
       "        30.422535,  35.492958,  40.56338 ,  45.633803,  50.704225,  55.774648,\n",
       "        60.84507 ,  65.915493,  70.985915,  76.056338,  81.126761,  86.197183,\n",
       "        91.267606,  96.338028, 101.408451, 106.478873, 111.549296, 116.619718,\n",
       "       121.690141, 126.760563, 131.830986, 136.901408, 141.971831, 147.042254,\n",
       "       152.112676, 157.183099, 162.253521, 167.323944, 172.394366, 177.464789,\n",
       "       182.535211, 187.605634, 192.676056, 197.746479, 202.816901, 207.887324,\n",
       "       212.957746, 218.028169, 223.098592, 228.169014, 233.239437, 238.309859,\n",
       "       243.380282, 248.450704, 253.521127, 258.591549, 263.661972, 268.732394,\n",
       "       273.802817, 278.873239, 283.943662, 289.014085, 294.084507, 299.15493 ,\n",
       "       304.225352, 309.295775, 314.366197, 319.43662 , 324.507042, 329.577465,\n",
       "       334.647887, 339.71831 , 344.788732, 349.859155, 354.929577, 360.      ])</pre></div></li></ul></div></li><li class='xr-section-item'><input id='section-b2c3f523-f75a-412e-95c0-b96ea6cade8a' class='xr-section-summary-in' type='checkbox' disabled ><label for='section-b2c3f523-f75a-412e-95c0-b96ea6cade8a' class='xr-section-summary'  title='Expand/collapse section'>Attributes: <span>(0)</span></label><div class='xr-section-inline-details'></div><div class='xr-section-details'><dl class='xr-attrs'></dl></div></li></ul></div></div>"
      ],
      "text/plain": [
       "<xarray.DataArray (lat: 72, lon: 72)>\n",
       "array([[nan, nan, nan, ..., nan, nan, nan],\n",
       "       [nan, nan, nan, ..., nan, nan, nan],\n",
       "       [nan, nan, nan, ..., nan, nan, nan],\n",
       "       ...,\n",
       "       [nan, nan, nan, ..., nan, nan, nan],\n",
       "       [nan, nan, nan, ..., nan, nan, nan],\n",
       "       [nan, nan, nan, ..., nan, nan, nan]])\n",
       "Coordinates:\n",
       "  * lat      (lat) float64 88.75 86.25 83.75 81.25 ... -83.75 -86.25 -88.75\n",
       "  * lon      (lon) float64 0.0 5.07 10.14 15.21 ... 344.8 349.9 354.9 360.0"
      ]
     },
     "execution_count": 9,
     "metadata": {},
     "output_type": "execute_result"
    }
   ],
   "source": [
    "file1b_ld_net_TOA = open(\"/data/keeling/a/mailes2/a/chen_data/textdir/figure1b_ld_net_TOA.txt\", \"r\")\n",
    "list1b_ld_net_TOA = []\n",
    "while True:\n",
    "    list1b_ld_net_TOA.append(file1b_ld_net_TOA.readline())\n",
    "    if not file1b_ld_net_TOA.readline():\n",
    "        break\n",
    "file1b_ld_net_TOA.close()\n",
    "\n",
    "list1b_ld_net_TOA_full = []\n",
    "for line in list1b_ld_net_TOA:\n",
    "    list_lon = line.split()\n",
    "    list1b_ld_net_TOA_full.append(list_lon)\n",
    "    \n",
    "list1b_ld_net_TOA_float = []\n",
    "for lon in list1b_ld_net_TOA_full:\n",
    "    lon_list = []\n",
    "    for num in lon:\n",
    "        num = float(num)\n",
    "        lon_list.append(num)\n",
    "    list1b_ld_net_TOA_float.append(lon_list)\n",
    "list1b_ld_net_TOA_float.pop()\n",
    "\n",
    "array1b_ld_net_TOA = np.array(list1b_ld_net_TOA_float)\n",
    "\n",
    "dataarray_1b_ld_net_TOA = xr.DataArray(array1b_ld_net_TOA.transpose(), \n",
    "                                 coords={'lat': array_lat, 'lon': new_lon}, \n",
    "                                 dims=['lat','lon'])\n",
    "dataarray_1b_ld_net_TOA"
   ]
  },
  {
   "cell_type": "code",
   "execution_count": 10,
   "id": "8f379749",
   "metadata": {},
   "outputs": [
    {
     "data": {
      "text/plain": [
       "Text(0.5, 1.0, '1b_ld_net_TOA')"
      ]
     },
     "execution_count": 10,
     "metadata": {},
     "output_type": "execute_result"
    },
    {
     "data": {
      "image/png": "[encoded data removed]",
      "text/plain": [
       "<Figure size 720x576 with 2 Axes>"
      ]
     },
     "metadata": {
      "needs_background": "light"
     },
     "output_type": "display_data"
    }
   ],
   "source": [
    "fig = plt.figure(figsize=(10, 8))\n",
    "ax1 = plt.subplot(projection=ccrs.PlateCarree(central_longitude=180))\n",
    "dataarray_1b_ld_net_TOA.plot(ax=ax1, transform=ccrs.PlateCarree(), cbar_kwargs={'shrink': 0.7})\n",
    "plt.title('1b_ld_net_TOA')"
   ]
  },
  {
   "cell_type": "code",
   "execution_count": null,
   "id": "48c148bd",
   "metadata": {},
   "outputs": [],
   "source": []
  },
  {
   "cell_type": "code",
   "execution_count": 32,
   "id": "f9402783",
   "metadata": {},
   "outputs": [],
   "source": [
    "figure1a_ld_N = scipy.io.loadmat('/data/keeling/a/mailes2/a/chen_data/figure1a_ld_N.mat')\n",
    "\n",
    "figure1b_ld_net_TOA = scipy.io.loadmat('/data/keeling/a/mailes2/a/chen_data/figure1b_ld_net_TOA.mat')\n",
    "\n",
    "figure1c_ld_net_sfc = scipy.io.loadmat('/data/keeling/a/mailes2/a/chen_data/figure1c_ld_net_sfc.mat')\n",
    "\n",
    "figure1d_ld_THF = scipy.io.loadmat('/data/keeling/a/mailes2/a/chen_data/figure1d_ld_THF.mat')"
   ]
  },
  {
   "cell_type": "code",
   "execution_count": 40,
   "id": "c09c8a02",
   "metadata": {},
   "outputs": [
    {
     "data": {
      "text/plain": [
       "{'__header__': b'MATLAB 5.0 MAT-file, Platform: GLNXA64, Created on: Fri Mar  8 15:08:10 2024',\n",
       " '__version__': '1.0',\n",
       " '__globals__': [],\n",
       " 'lat_f': array([[ 88.75,  86.25,  83.75,  81.25,  78.75,  76.25,  73.75,  71.25,\n",
       "          68.75,  66.25,  63.75,  61.25,  58.75,  56.25,  53.75,  51.25,\n",
       "          48.75,  46.25,  43.75,  41.25,  38.75,  36.25,  33.75,  31.25,\n",
       "          28.75,  26.25,  23.75,  21.25,  18.75,  16.25,  13.75,  11.25,\n",
       "           8.75,   6.25,   3.75,   1.25,  -1.25,  -3.75,  -6.25,  -8.75,\n",
       "         -11.25, -13.75, -16.25, -18.75, -21.25, -23.75, -26.25, -28.75,\n",
       "         -31.25, -33.75, -36.25, -38.75, -41.25, -43.75, -46.25, -48.75,\n",
       "         -51.25, -53.75, -56.25, -58.75, -61.25, -63.75, -66.25, -68.75,\n",
       "         -71.25, -73.75, -76.25, -78.75, -81.25, -83.75, -86.25, -88.75]]),\n",
       " 'ld_net_grid': array([[nan, nan, nan, ..., nan, nan, nan],\n",
       "        [nan, nan, nan, ..., nan, nan, nan],\n",
       "        [nan, nan, nan, ..., nan, nan, nan],\n",
       "        ...,\n",
       "        [nan, nan, nan, ..., nan, nan, nan],\n",
       "        [nan, nan, nan, ..., nan, nan, nan],\n",
       "        [nan, nan, nan, ..., nan, nan, nan]]),\n",
       " 'lon_f': array([[  0. ,   2.5,   5. ,   7.5,  10. ,  12.5,  15. ,  17.5,  20. ,\n",
       "          22.5,  25. ,  27.5,  30. ,  32.5,  35. ,  37.5,  40. ,  42.5,\n",
       "          45. ,  47.5,  50. ,  52.5,  55. ,  57.5,  60. ,  62.5,  65. ,\n",
       "          67.5,  70. ,  72.5,  75. ,  77.5,  80. ,  82.5,  85. ,  87.5,\n",
       "          90. ,  92.5,  95. ,  97.5, 100. , 102.5, 105. , 107.5, 110. ,\n",
       "         112.5, 115. , 117.5, 120. , 122.5, 125. , 127.5, 130. , 132.5,\n",
       "         135. , 137.5, 140. , 142.5, 145. , 147.5, 150. , 152.5, 155. ,\n",
       "         157.5, 160. , 162.5, 165. , 167.5, 170. , 172.5, 175. , 177.5,\n",
       "         180. , 182.5, 185. , 187.5, 190. , 192.5, 195. , 197.5, 200. ,\n",
       "         202.5, 205. , 207.5, 210. , 212.5, 215. , 217.5, 220. , 222.5,\n",
       "         225. , 227.5, 230. , 232.5, 235. , 237.5, 240. , 242.5, 245. ,\n",
       "         247.5, 250. , 252.5, 255. , 257.5, 260. , 262.5, 265. , 267.5,\n",
       "         270. , 272.5, 275. , 277.5, 280. , 282.5, 285. , 287.5, 290. ,\n",
       "         292.5, 295. , 297.5, 300. , 302.5, 305. , 307.5, 310. , 312.5,\n",
       "         315. , 317.5, 320. , 322.5, 325. , 327.5, 330. , 332.5, 335. ,\n",
       "         337.5, 340. , 342.5, 345. , 347.5, 350. , 352.5, 355. , 357.5]])}"
      ]
     },
     "execution_count": 40,
     "metadata": {},
     "output_type": "execute_result"
    }
   ],
   "source": [
    "figure1c_ld_net_sfc"
   ]
  },
  {
   "cell_type": "code",
   "execution_count": 38,
   "id": "a731ae59",
   "metadata": {},
   "outputs": [
    {
     "data": {
      "text/plain": [
       "(144, 72)"
      ]
     },
     "execution_count": 38,
     "metadata": {},
     "output_type": "execute_result"
    }
   ],
   "source": [
    "# from https://stackoverflow.com/questions/38197449/matlab-data-file-to-pandas-dataframe\n",
    "figure1d_ld_THF['ld_THF_grid'].shape  # dtypes of structures are \"unsized objects\"\n",
    "# * SciPy reads in structures as structured NumPy arrays of dtype object\n",
    "# * The size of the array is the size of the structure array, not the number\n",
    "#   elements in any particular field. The shape defaults to 2-dimensional.\n",
    "# * For convenience make a dictionary of the data using the names from dtypes\n",
    "# * Since the structure has only one element, but is 2-D, index it at [0, 0]\n"
   ]
  },
  {
   "cell_type": "code",
   "execution_count": 19,
   "id": "0e4eaa1c",
   "metadata": {},
   "outputs": [
    {
     "name": "stdout",
     "output_type": "stream",
     "text": [
      "None\n"
     ]
    },
    {
     "ename": "TypeError",
     "evalue": "'NoneType' object is not iterable",
     "output_type": "error",
     "traceback": [
      "\u001b[0;31m---------------------------------------------------------------------------\u001b[0m",
      "\u001b[0;31mTypeError\u001b[0m                                 Traceback (most recent call last)",
      "Input \u001b[0;32mIn [19]\u001b[0m, in \u001b[0;36m<cell line: 4>\u001b[0;34m()\u001b[0m\n\u001b[1;32m      2\u001b[0m ld_N_grid_type \u001b[38;5;241m=\u001b[39m ld_N_grid\u001b[38;5;241m.\u001b[39mdtype\n\u001b[1;32m      3\u001b[0m \u001b[38;5;28mprint\u001b[39m(ld_N_grid_type\u001b[38;5;241m.\u001b[39mnames)\n\u001b[0;32m----> 4\u001b[0m ndata \u001b[38;5;241m=\u001b[39m {n: ld_N_grid[n][\u001b[38;5;241m0\u001b[39m, \u001b[38;5;241m0\u001b[39m] \u001b[38;5;28;01mfor\u001b[39;00m n \u001b[38;5;129;01min\u001b[39;00m ld_N_grid_type\u001b[38;5;241m.\u001b[39mnames}\n\u001b[1;32m      5\u001b[0m \u001b[38;5;66;03m# Reconstruct the columns of the data table from just the time series\u001b[39;00m\n\u001b[1;32m      6\u001b[0m \u001b[38;5;66;03m# Use the number of intervals to test if a field is a column or metadata\u001b[39;00m\n\u001b[1;32m      7\u001b[0m columns \u001b[38;5;241m=\u001b[39m [n \u001b[38;5;28;01mfor\u001b[39;00m n, v \u001b[38;5;129;01min\u001b[39;00m ndata\u001b[38;5;241m.\u001b[39miteritems() \u001b[38;5;28;01mif\u001b[39;00m v\u001b[38;5;241m.\u001b[39msize \u001b[38;5;241m==\u001b[39m ndata[\u001b[38;5;124m'\u001b[39m\u001b[38;5;124mnumIntervals\u001b[39m\u001b[38;5;124m'\u001b[39m]]\n",
      "\u001b[0;31mTypeError\u001b[0m: 'NoneType' object is not iterable"
     ]
    }
   ],
   "source": [
    "ld_N_grid = figure1a_1d_N['ld_N_grid']\n",
    "ld_N_grid_type = ld_N_grid.dtype\n",
    "print(ld_N_grid_type.names)\n",
    "ndata = {n: ld_N_grid[n][0, 0] for n in ld_N_grid_type.names}\n",
    "# Reconstruct the columns of the data table from just the time series\n",
    "# Use the number of intervals to test if a field is a column or metadata\n",
    "columns = [n for n, v in ndata.iteritems() if v.size == ndata['numIntervals']]\n",
    "# now make a data frame, setting the time stamps as the index\n",
    "df = pd.DataFrame(np.concatenate([ndata[c] for c in columns], axis=1),\n",
    "                  index=[datetime(*ts) for ts in ndata['timestamps']],\n",
    "                  columns=columns)"
   ]
  },
  {
   "cell_type": "code",
   "execution_count": null,
   "id": "a3ecc688",
   "metadata": {},
   "outputs": [],
   "source": []
  }
 ],
 "metadata": {
  "kernelspec": {
   "display_name": "Python 3 (ipykernel)",
   "language": "python",
   "name": "python3"
  },
  "language_info": {
   "codemirror_mode": {
    "name": "ipython",
    "version": 3
   },
   "file_extension": ".py",
   "mimetype": "text/x-python",
   "name": "python",
   "nbconvert_exporter": "python",
   "pygments_lexer": "ipython3",
   "version": "3.10.4"
  }
 },
 "nbformat": 4,
 "nbformat_minor": 5
}
