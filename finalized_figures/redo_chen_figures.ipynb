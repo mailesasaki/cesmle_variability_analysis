{
 "cells": [
  {
   "cell_type": "code",
   "execution_count": 1,
   "id": "6846d427",
   "metadata": {},
   "outputs": [],
   "source": [
    "import scipy.io"
   ]
  },
  {
   "cell_type": "code",
   "execution_count": 32,
   "id": "f9402783",
   "metadata": {},
   "outputs": [],
   "source": [
    "figure1a_ld_N = scipy.io.loadmat('/data/keeling/a/mailes2/a/chen_data/figure1a_ld_N.mat')\n",
    "\n",
    "figure1b_ld_net_TOA = scipy.io.loadmat('/data/keeling/a/mailes2/a/chen_data/figure1b_ld_net_TOA.mat')\n",
    "\n",
    "figure1c_ld_net_sfc = scipy.io.loadmat('/data/keeling/a/mailes2/a/chen_data/figure1c_ld_net_sfc.mat')\n",
    "\n",
    "figure1d_ld_THF = scipy.io.loadmat('/data/keeling/a/mailes2/a/chen_data/figure1d_ld_THF.mat')"
   ]
  },
  {
   "cell_type": "code",
   "execution_count": 40,
   "id": "c09c8a02",
   "metadata": {},
   "outputs": [
    {
     "data": {
      "text/plain": [
       "{'__header__': b'MATLAB 5.0 MAT-file, Platform: GLNXA64, Created on: Fri Mar  8 15:08:10 2024',\n",
       " '__version__': '1.0',\n",
       " '__globals__': [],\n",
       " 'lat_f': array([[ 88.75,  86.25,  83.75,  81.25,  78.75,  76.25,  73.75,  71.25,\n",
       "          68.75,  66.25,  63.75,  61.25,  58.75,  56.25,  53.75,  51.25,\n",
       "          48.75,  46.25,  43.75,  41.25,  38.75,  36.25,  33.75,  31.25,\n",
       "          28.75,  26.25,  23.75,  21.25,  18.75,  16.25,  13.75,  11.25,\n",
       "           8.75,   6.25,   3.75,   1.25,  -1.25,  -3.75,  -6.25,  -8.75,\n",
       "         -11.25, -13.75, -16.25, -18.75, -21.25, -23.75, -26.25, -28.75,\n",
       "         -31.25, -33.75, -36.25, -38.75, -41.25, -43.75, -46.25, -48.75,\n",
       "         -51.25, -53.75, -56.25, -58.75, -61.25, -63.75, -66.25, -68.75,\n",
       "         -71.25, -73.75, -76.25, -78.75, -81.25, -83.75, -86.25, -88.75]]),\n",
       " 'ld_net_grid': array([[nan, nan, nan, ..., nan, nan, nan],\n",
       "        [nan, nan, nan, ..., nan, nan, nan],\n",
       "        [nan, nan, nan, ..., nan, nan, nan],\n",
       "        ...,\n",
       "        [nan, nan, nan, ..., nan, nan, nan],\n",
       "        [nan, nan, nan, ..., nan, nan, nan],\n",
       "        [nan, nan, nan, ..., nan, nan, nan]]),\n",
       " 'lon_f': array([[  0. ,   2.5,   5. ,   7.5,  10. ,  12.5,  15. ,  17.5,  20. ,\n",
       "          22.5,  25. ,  27.5,  30. ,  32.5,  35. ,  37.5,  40. ,  42.5,\n",
       "          45. ,  47.5,  50. ,  52.5,  55. ,  57.5,  60. ,  62.5,  65. ,\n",
       "          67.5,  70. ,  72.5,  75. ,  77.5,  80. ,  82.5,  85. ,  87.5,\n",
       "          90. ,  92.5,  95. ,  97.5, 100. , 102.5, 105. , 107.5, 110. ,\n",
       "         112.5, 115. , 117.5, 120. , 122.5, 125. , 127.5, 130. , 132.5,\n",
       "         135. , 137.5, 140. , 142.5, 145. , 147.5, 150. , 152.5, 155. ,\n",
       "         157.5, 160. , 162.5, 165. , 167.5, 170. , 172.5, 175. , 177.5,\n",
       "         180. , 182.5, 185. , 187.5, 190. , 192.5, 195. , 197.5, 200. ,\n",
       "         202.5, 205. , 207.5, 210. , 212.5, 215. , 217.5, 220. , 222.5,\n",
       "         225. , 227.5, 230. , 232.5, 235. , 237.5, 240. , 242.5, 245. ,\n",
       "         247.5, 250. , 252.5, 255. , 257.5, 260. , 262.5, 265. , 267.5,\n",
       "         270. , 272.5, 275. , 277.5, 280. , 282.5, 285. , 287.5, 290. ,\n",
       "         292.5, 295. , 297.5, 300. , 302.5, 305. , 307.5, 310. , 312.5,\n",
       "         315. , 317.5, 320. , 322.5, 325. , 327.5, 330. , 332.5, 335. ,\n",
       "         337.5, 340. , 342.5, 345. , 347.5, 350. , 352.5, 355. , 357.5]])}"
      ]
     },
     "execution_count": 40,
     "metadata": {},
     "output_type": "execute_result"
    }
   ],
   "source": [
    "figure1c_ld_net_sfc"
   ]
  },
  {
   "cell_type": "code",
   "execution_count": 38,
   "id": "a731ae59",
   "metadata": {},
   "outputs": [
    {
     "data": {
      "text/plain": [
       "(144, 72)"
      ]
     },
     "execution_count": 38,
     "metadata": {},
     "output_type": "execute_result"
    }
   ],
   "source": [
    "# from https://stackoverflow.com/questions/38197449/matlab-data-file-to-pandas-dataframe\n",
    "figure1d_ld_THF['ld_THF_grid'].shape  # dtypes of structures are \"unsized objects\"\n",
    "# * SciPy reads in structures as structured NumPy arrays of dtype object\n",
    "# * The size of the array is the size of the structure array, not the number\n",
    "#   elements in any particular field. The shape defaults to 2-dimensional.\n",
    "# * For convenience make a dictionary of the data using the names from dtypes\n",
    "# * Since the structure has only one element, but is 2-D, index it at [0, 0]\n"
   ]
  },
  {
   "cell_type": "code",
   "execution_count": 19,
   "id": "0e4eaa1c",
   "metadata": {},
   "outputs": [
    {
     "name": "stdout",
     "output_type": "stream",
     "text": [
      "None\n"
     ]
    },
    {
     "ename": "TypeError",
     "evalue": "'NoneType' object is not iterable",
     "output_type": "error",
     "traceback": [
      "\u001b[0;31m---------------------------------------------------------------------------\u001b[0m",
      "\u001b[0;31mTypeError\u001b[0m                                 Traceback (most recent call last)",
      "Input \u001b[0;32mIn [19]\u001b[0m, in \u001b[0;36m<cell line: 4>\u001b[0;34m()\u001b[0m\n\u001b[1;32m      2\u001b[0m ld_N_grid_type \u001b[38;5;241m=\u001b[39m ld_N_grid\u001b[38;5;241m.\u001b[39mdtype\n\u001b[1;32m      3\u001b[0m \u001b[38;5;28mprint\u001b[39m(ld_N_grid_type\u001b[38;5;241m.\u001b[39mnames)\n\u001b[0;32m----> 4\u001b[0m ndata \u001b[38;5;241m=\u001b[39m {n: ld_N_grid[n][\u001b[38;5;241m0\u001b[39m, \u001b[38;5;241m0\u001b[39m] \u001b[38;5;28;01mfor\u001b[39;00m n \u001b[38;5;129;01min\u001b[39;00m ld_N_grid_type\u001b[38;5;241m.\u001b[39mnames}\n\u001b[1;32m      5\u001b[0m \u001b[38;5;66;03m# Reconstruct the columns of the data table from just the time series\u001b[39;00m\n\u001b[1;32m      6\u001b[0m \u001b[38;5;66;03m# Use the number of intervals to test if a field is a column or metadata\u001b[39;00m\n\u001b[1;32m      7\u001b[0m columns \u001b[38;5;241m=\u001b[39m [n \u001b[38;5;28;01mfor\u001b[39;00m n, v \u001b[38;5;129;01min\u001b[39;00m ndata\u001b[38;5;241m.\u001b[39miteritems() \u001b[38;5;28;01mif\u001b[39;00m v\u001b[38;5;241m.\u001b[39msize \u001b[38;5;241m==\u001b[39m ndata[\u001b[38;5;124m'\u001b[39m\u001b[38;5;124mnumIntervals\u001b[39m\u001b[38;5;124m'\u001b[39m]]\n",
      "\u001b[0;31mTypeError\u001b[0m: 'NoneType' object is not iterable"
     ]
    }
   ],
   "source": [
    "ld_N_grid = figure1a_1d_N['ld_N_grid']\n",
    "ld_N_grid_type = ld_N_grid.dtype\n",
    "print(ld_N_grid_type.names)\n",
    "ndata = {n: ld_N_grid[n][0, 0] for n in ld_N_grid_type.names}\n",
    "# Reconstruct the columns of the data table from just the time series\n",
    "# Use the number of intervals to test if a field is a column or metadata\n",
    "columns = [n for n, v in ndata.iteritems() if v.size == ndata['numIntervals']]\n",
    "# now make a data frame, setting the time stamps as the index\n",
    "df = pd.DataFrame(np.concatenate([ndata[c] for c in columns], axis=1),\n",
    "                  index=[datetime(*ts) for ts in ndata['timestamps']],\n",
    "                  columns=columns)"
   ]
  },
  {
   "cell_type": "code",
   "execution_count": null,
   "id": "a3ecc688",
   "metadata": {},
   "outputs": [],
   "source": []
  }
 ],
 "metadata": {
  "kernelspec": {
   "display_name": "Python 3 (ipykernel)",
   "language": "python",
   "name": "python3"
  },
  "language_info": {
   "codemirror_mode": {
    "name": "ipython",
    "version": 3
   },
   "file_extension": ".py",
   "mimetype": "text/x-python",
   "name": "python",
   "nbconvert_exporter": "python",
   "pygments_lexer": "ipython3",
   "version": "3.10.4"
  }
 },
 "nbformat": 4,
 "nbformat_minor": 5
}
